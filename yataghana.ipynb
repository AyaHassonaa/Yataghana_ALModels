{
 "cells": [
  {
   "cell_type": "markdown",
   "id": "f1c25601",
   "metadata": {
    "papermill": {
     "duration": 0.059115,
     "end_time": "2021-08-31T07:35:44.130910",
     "exception": false,
     "start_time": "2021-08-31T07:35:44.071795",
     "status": "completed"
    },
    "tags": []
   },
   "source": [
    "# The Holy Quran ( Arabic ), Tashkeel Removal, word count, and comparing  different  Stopwords and Stemmers.\n"
   ]
  },
  {
   "cell_type": "code",
   "execution_count": 1,
   "id": "7bb1cf61",
   "metadata": {
    "ExecuteTime": {
     "end_time": "2021-03-03T18:43:33.572875Z",
     "start_time": "2021-03-03T18:43:26.985478Z"
    },
    "execution": {
     "iopub.execute_input": "2021-08-31T07:35:44.258952Z",
     "iopub.status.busy": "2021-08-31T07:35:44.258278Z",
     "iopub.status.idle": "2021-08-31T07:35:45.358182Z",
     "shell.execute_reply": "2021-08-31T07:35:45.357113Z",
     "shell.execute_reply.started": "2021-08-31T07:06:53.895055Z"
    },
    "papermill": {
     "duration": 1.16883,
     "end_time": "2021-08-31T07:35:45.358403",
     "exception": false,
     "start_time": "2021-08-31T07:35:44.189573",
     "status": "completed"
    },
    "tags": []
   },
   "outputs": [],
   "source": [
    "import matplotlib.pyplot as plt\n",
    "import numpy as np\n",
    "import pandas as pd\n",
    "import seaborn as sns\n",
    "import warnings\n",
    "warnings.filterwarnings('ignore')"
   ]
  },
  {
   "cell_type": "code",
   "execution_count": 2,
   "id": "e32b47bc",
   "metadata": {
    "ExecuteTime": {
     "end_time": "2021-03-03T18:43:33.634072Z",
     "start_time": "2021-03-03T18:43:33.576558Z"
    },
    "execution": {
     "iopub.execute_input": "2021-08-31T07:35:45.476474Z",
     "iopub.status.busy": "2021-08-31T07:35:45.475651Z",
     "iopub.status.idle": "2021-08-31T07:35:45.541089Z",
     "shell.execute_reply": "2021-08-31T07:35:45.540323Z",
     "shell.execute_reply.started": "2021-08-31T07:06:53.901969Z"
    },
    "papermill": {
     "duration": 0.126129,
     "end_time": "2021-08-31T07:35:45.541275",
     "exception": false,
     "start_time": "2021-08-31T07:35:45.415146",
     "status": "completed"
    },
    "tags": []
   },
   "outputs": [],
   "source": [
    "quran_original = pd.read_csv('../input/the-holy-quran/Arabic-Original.csv',header=None)"
   ]
  },
  {
   "cell_type": "code",
   "execution_count": 3,
   "id": "4d106d5c",
   "metadata": {
    "ExecuteTime": {
     "end_time": "2021-03-03T18:43:33.653990Z",
     "start_time": "2021-03-03T18:43:33.638350Z"
    },
    "execution": {
     "iopub.execute_input": "2021-08-31T07:35:45.657107Z",
     "iopub.status.busy": "2021-08-31T07:35:45.656100Z",
     "iopub.status.idle": "2021-08-31T07:35:45.679356Z",
     "shell.execute_reply": "2021-08-31T07:35:45.679930Z",
     "shell.execute_reply.started": "2021-08-31T07:06:53.954500Z"
    },
    "papermill": {
     "duration": 0.08378,
     "end_time": "2021-08-31T07:35:45.680106",
     "exception": false,
     "start_time": "2021-08-31T07:35:45.596326",
     "status": "completed"
    },
    "tags": []
   },
   "outputs": [
    {
     "data": {
      "text/html": [
       "<div>\n",
       "<style scoped>\n",
       "    .dataframe tbody tr th:only-of-type {\n",
       "        vertical-align: middle;\n",
       "    }\n",
       "\n",
       "    .dataframe tbody tr th {\n",
       "        vertical-align: top;\n",
       "    }\n",
       "\n",
       "    .dataframe thead th {\n",
       "        text-align: right;\n",
       "    }\n",
       "</style>\n",
       "<table border=\"1\" class=\"dataframe\">\n",
       "  <thead>\n",
       "    <tr style=\"text-align: right;\">\n",
       "      <th></th>\n",
       "      <th>0</th>\n",
       "    </tr>\n",
       "  </thead>\n",
       "  <tbody>\n",
       "    <tr>\n",
       "      <th>0</th>\n",
       "      <td>1|1|بِسْمِ اللَّهِ الرَّحْمَٰنِ الرَّحِيمِ</td>\n",
       "    </tr>\n",
       "    <tr>\n",
       "      <th>1</th>\n",
       "      <td>1|2|الْحَمْدُ لِلَّهِ رَبِّ الْعَالَمِينَ</td>\n",
       "    </tr>\n",
       "    <tr>\n",
       "      <th>2</th>\n",
       "      <td>1|3|الرَّحْمَٰنِ الرَّحِيمِ</td>\n",
       "    </tr>\n",
       "    <tr>\n",
       "      <th>3</th>\n",
       "      <td>1|4|مَالِكِ يَوْمِ الدِّينِ</td>\n",
       "    </tr>\n",
       "    <tr>\n",
       "      <th>4</th>\n",
       "      <td>1|5|إِيَّاكَ نَعْبُدُ وَإِيَّاكَ نَسْتَعِينُ</td>\n",
       "    </tr>\n",
       "  </tbody>\n",
       "</table>\n",
       "</div>"
      ],
      "text/plain": [
       "                                              0\n",
       "0    1|1|بِسْمِ اللَّهِ الرَّحْمَٰنِ الرَّحِيمِ\n",
       "1     1|2|الْحَمْدُ لِلَّهِ رَبِّ الْعَالَمِينَ\n",
       "2                   1|3|الرَّحْمَٰنِ الرَّحِيمِ\n",
       "3                   1|4|مَالِكِ يَوْمِ الدِّينِ\n",
       "4  1|5|إِيَّاكَ نَعْبُدُ وَإِيَّاكَ نَسْتَعِينُ"
      ]
     },
     "execution_count": 3,
     "metadata": {},
     "output_type": "execute_result"
    }
   ],
   "source": [
    "quran_original.head()"
   ]
  },
  {
   "cell_type": "code",
   "execution_count": 4,
   "id": "d8b00371",
   "metadata": {
    "ExecuteTime": {
     "end_time": "2021-03-03T18:43:33.685369Z",
     "start_time": "2021-03-03T18:43:33.656825Z"
    },
    "execution": {
     "iopub.execute_input": "2021-08-31T07:35:45.797349Z",
     "iopub.status.busy": "2021-08-31T07:35:45.796349Z",
     "iopub.status.idle": "2021-08-31T07:35:45.823881Z",
     "shell.execute_reply": "2021-08-31T07:35:45.824420Z",
     "shell.execute_reply.started": "2021-08-31T07:06:53.977944Z"
    },
    "papermill": {
     "duration": 0.086545,
     "end_time": "2021-08-31T07:35:45.824619",
     "exception": false,
     "start_time": "2021-08-31T07:35:45.738074",
     "status": "completed"
    },
    "tags": []
   },
   "outputs": [],
   "source": [
    "quran = quran_original[0].str.split('|', expand = True)"
   ]
  },
  {
   "cell_type": "code",
   "execution_count": 5,
   "id": "34505b64",
   "metadata": {
    "ExecuteTime": {
     "end_time": "2021-03-03T18:43:33.690897Z",
     "start_time": "2021-03-03T18:43:33.687337Z"
    },
    "execution": {
     "iopub.execute_input": "2021-08-31T07:35:45.942413Z",
     "iopub.status.busy": "2021-08-31T07:35:45.941411Z",
     "iopub.status.idle": "2021-08-31T07:35:45.946052Z",
     "shell.execute_reply": "2021-08-31T07:35:45.946635Z",
     "shell.execute_reply.started": "2021-08-31T07:06:54.005636Z"
    },
    "papermill": {
     "duration": 0.064914,
     "end_time": "2021-08-31T07:35:45.946813",
     "exception": false,
     "start_time": "2021-08-31T07:35:45.881899",
     "status": "completed"
    },
    "tags": []
   },
   "outputs": [],
   "source": [
    "quran.columns = ['surah','ayah','text']"
   ]
  },
  {
   "cell_type": "code",
   "execution_count": 6,
   "id": "5561a243",
   "metadata": {
    "ExecuteTime": {
     "end_time": "2021-03-03T18:43:43.207507Z",
     "start_time": "2021-03-03T18:43:33.692944Z"
    },
    "execution": {
     "iopub.execute_input": "2021-08-31T07:35:46.063289Z",
     "iopub.status.busy": "2021-08-31T07:35:46.062234Z",
     "iopub.status.idle": "2021-08-31T07:35:47.027431Z",
     "shell.execute_reply": "2021-08-31T07:35:47.026770Z",
     "shell.execute_reply.started": "2021-08-31T07:06:54.011638Z"
    },
    "papermill": {
     "duration": 1.025406,
     "end_time": "2021-08-31T07:35:47.027647",
     "exception": false,
     "start_time": "2021-08-31T07:35:46.002241",
     "status": "completed"
    },
    "tags": []
   },
   "outputs": [],
   "source": [
    "from nltk.tokenize import RegexpTokenizer"
   ]
  },
  {
   "cell_type": "code",
   "execution_count": 7,
   "id": "f8e3142a",
   "metadata": {
    "ExecuteTime": {
     "end_time": "2021-03-03T18:43:43.213590Z",
     "start_time": "2021-03-03T18:43:43.209432Z"
    },
    "execution": {
     "iopub.execute_input": "2021-08-31T07:35:47.146539Z",
     "iopub.status.busy": "2021-08-31T07:35:47.145853Z",
     "iopub.status.idle": "2021-08-31T07:35:47.151357Z",
     "shell.execute_reply": "2021-08-31T07:35:47.151861Z",
     "shell.execute_reply.started": "2021-08-31T07:06:54.940692Z"
    },
    "papermill": {
     "duration": 0.065114,
     "end_time": "2021-08-31T07:35:47.152054",
     "exception": false,
     "start_time": "2021-08-31T07:35:47.086940",
     "status": "completed"
    },
    "tags": []
   },
   "outputs": [],
   "source": [
    "def tashkeel_remover(word) :\n",
    "    \"\"\"\n",
    "    Function to remove tshkeel from a word.\n",
    "    The input is a single word with tshkeel, and \n",
    "    the output is a single word without tashkeel.\n",
    "    \"\"\"\n",
    "    tokenizer = RegexpTokenizer('[ء-ي]')\n",
    "    tokens = tokenizer.tokenize(word)\n",
    "    word_no_tashkeel = ''.join(tokens)\n",
    "    return(word_no_tashkeel) "
   ]
  },
  {
   "cell_type": "code",
   "execution_count": 8,
   "id": "e81cff5e",
   "metadata": {
    "ExecuteTime": {
     "end_time": "2021-03-03T18:43:43.618922Z",
     "start_time": "2021-03-03T18:43:43.217741Z"
    },
    "execution": {
     "iopub.execute_input": "2021-08-31T07:35:47.267393Z",
     "iopub.status.busy": "2021-08-31T07:35:47.266671Z",
     "iopub.status.idle": "2021-08-31T07:35:47.763416Z",
     "shell.execute_reply": "2021-08-31T07:35:47.762782Z",
     "shell.execute_reply.started": "2021-08-31T07:06:54.948192Z"
    },
    "papermill": {
     "duration": 0.556227,
     "end_time": "2021-08-31T07:35:47.763581",
     "exception": false,
     "start_time": "2021-08-31T07:35:47.207354",
     "status": "completed"
    },
    "tags": []
   },
   "outputs": [],
   "source": [
    "quran['tokinized_text'] = [ i.split(' ') for i in quran['text']]\n",
    "quran['text_no_tashkeel'] = [[tashkeel_remover(word) for word in ayah]for ayah in quran['tokinized_text']]\n",
    "quran['clean_text'] = quran['text_no_tashkeel'].apply(lambda i : ' '.join(i))"
   ]
  },
  {
   "cell_type": "code",
   "execution_count": 9,
   "id": "6cf93a0b",
   "metadata": {
    "ExecuteTime": {
     "end_time": "2021-03-03T18:43:43.634613Z",
     "start_time": "2021-03-03T18:43:43.622086Z"
    },
    "execution": {
     "iopub.execute_input": "2021-08-31T07:35:47.891596Z",
     "iopub.status.busy": "2021-08-31T07:35:47.877953Z",
     "iopub.status.idle": "2021-08-31T07:35:47.896179Z",
     "shell.execute_reply": "2021-08-31T07:35:47.895571Z",
     "shell.execute_reply.started": "2021-08-31T07:06:55.469450Z"
    },
    "papermill": {
     "duration": 0.077699,
     "end_time": "2021-08-31T07:35:47.896340",
     "exception": false,
     "start_time": "2021-08-31T07:35:47.818641",
     "status": "completed"
    },
    "tags": []
   },
   "outputs": [
    {
     "data": {
      "text/html": [
       "<div>\n",
       "<style scoped>\n",
       "    .dataframe tbody tr th:only-of-type {\n",
       "        vertical-align: middle;\n",
       "    }\n",
       "\n",
       "    .dataframe tbody tr th {\n",
       "        vertical-align: top;\n",
       "    }\n",
       "\n",
       "    .dataframe thead th {\n",
       "        text-align: right;\n",
       "    }\n",
       "</style>\n",
       "<table border=\"1\" class=\"dataframe\">\n",
       "  <thead>\n",
       "    <tr style=\"text-align: right;\">\n",
       "      <th></th>\n",
       "      <th>surah</th>\n",
       "      <th>ayah</th>\n",
       "      <th>text</th>\n",
       "      <th>tokinized_text</th>\n",
       "      <th>text_no_tashkeel</th>\n",
       "      <th>clean_text</th>\n",
       "    </tr>\n",
       "  </thead>\n",
       "  <tbody>\n",
       "    <tr>\n",
       "      <th>0</th>\n",
       "      <td>1</td>\n",
       "      <td>1</td>\n",
       "      <td>بِسْمِ اللَّهِ الرَّحْمَٰنِ الرَّحِيمِ</td>\n",
       "      <td>[بِسْمِ, اللَّهِ, الرَّحْمَٰنِ, الرَّحِيمِ]</td>\n",
       "      <td>[بسم, الله, الرحمن, الرحيم]</td>\n",
       "      <td>بسم الله الرحمن الرحيم</td>\n",
       "    </tr>\n",
       "    <tr>\n",
       "      <th>1</th>\n",
       "      <td>1</td>\n",
       "      <td>2</td>\n",
       "      <td>الْحَمْدُ لِلَّهِ رَبِّ الْعَالَمِينَ</td>\n",
       "      <td>[الْحَمْدُ, لِلَّهِ, رَبِّ, الْعَالَمِينَ]</td>\n",
       "      <td>[الحمد, لله, رب, العالمين]</td>\n",
       "      <td>الحمد لله رب العالمين</td>\n",
       "    </tr>\n",
       "    <tr>\n",
       "      <th>2</th>\n",
       "      <td>1</td>\n",
       "      <td>3</td>\n",
       "      <td>الرَّحْمَٰنِ الرَّحِيمِ</td>\n",
       "      <td>[الرَّحْمَٰنِ, الرَّحِيمِ]</td>\n",
       "      <td>[الرحمن, الرحيم]</td>\n",
       "      <td>الرحمن الرحيم</td>\n",
       "    </tr>\n",
       "    <tr>\n",
       "      <th>3</th>\n",
       "      <td>1</td>\n",
       "      <td>4</td>\n",
       "      <td>مَالِكِ يَوْمِ الدِّينِ</td>\n",
       "      <td>[مَالِكِ, يَوْمِ, الدِّينِ]</td>\n",
       "      <td>[مالك, يوم, الدين]</td>\n",
       "      <td>مالك يوم الدين</td>\n",
       "    </tr>\n",
       "    <tr>\n",
       "      <th>4</th>\n",
       "      <td>1</td>\n",
       "      <td>5</td>\n",
       "      <td>إِيَّاكَ نَعْبُدُ وَإِيَّاكَ نَسْتَعِينُ</td>\n",
       "      <td>[إِيَّاكَ, نَعْبُدُ, وَإِيَّاكَ, نَسْتَعِينُ]</td>\n",
       "      <td>[إياك, نعبد, وإياك, نستعين]</td>\n",
       "      <td>إياك نعبد وإياك نستعين</td>\n",
       "    </tr>\n",
       "  </tbody>\n",
       "</table>\n",
       "</div>"
      ],
      "text/plain": [
       "  surah ayah                                      text  \\\n",
       "0     1    1    بِسْمِ اللَّهِ الرَّحْمَٰنِ الرَّحِيمِ   \n",
       "1     1    2     الْحَمْدُ لِلَّهِ رَبِّ الْعَالَمِينَ   \n",
       "2     1    3                   الرَّحْمَٰنِ الرَّحِيمِ   \n",
       "3     1    4                   مَالِكِ يَوْمِ الدِّينِ   \n",
       "4     1    5  إِيَّاكَ نَعْبُدُ وَإِيَّاكَ نَسْتَعِينُ   \n",
       "\n",
       "                                  tokinized_text             text_no_tashkeel  \\\n",
       "0    [بِسْمِ, اللَّهِ, الرَّحْمَٰنِ, الرَّحِيمِ]  [بسم, الله, الرحمن, الرحيم]   \n",
       "1     [الْحَمْدُ, لِلَّهِ, رَبِّ, الْعَالَمِينَ]   [الحمد, لله, رب, العالمين]   \n",
       "2                     [الرَّحْمَٰنِ, الرَّحِيمِ]             [الرحمن, الرحيم]   \n",
       "3                    [مَالِكِ, يَوْمِ, الدِّينِ]           [مالك, يوم, الدين]   \n",
       "4  [إِيَّاكَ, نَعْبُدُ, وَإِيَّاكَ, نَسْتَعِينُ]  [إياك, نعبد, وإياك, نستعين]   \n",
       "\n",
       "               clean_text  \n",
       "0  بسم الله الرحمن الرحيم  \n",
       "1   الحمد لله رب العالمين  \n",
       "2           الرحمن الرحيم  \n",
       "3          مالك يوم الدين  \n",
       "4  إياك نعبد وإياك نستعين  "
      ]
     },
     "execution_count": 9,
     "metadata": {},
     "output_type": "execute_result"
    }
   ],
   "source": [
    "quran.head()"
   ]
  },
  {
   "cell_type": "code",
   "execution_count": 10,
   "id": "97903421",
   "metadata": {
    "ExecuteTime": {
     "end_time": "2021-03-03T18:43:43.810053Z",
     "start_time": "2021-03-03T18:43:43.636444Z"
    },
    "execution": {
     "iopub.execute_input": "2021-08-31T07:35:48.033881Z",
     "iopub.status.busy": "2021-08-31T07:35:48.033160Z",
     "iopub.status.idle": "2021-08-31T07:35:48.061316Z",
     "shell.execute_reply": "2021-08-31T07:35:48.060751Z",
     "shell.execute_reply.started": "2021-08-31T07:06:55.489374Z"
    },
    "papermill": {
     "duration": 0.107648,
     "end_time": "2021-08-31T07:35:48.061475",
     "exception": false,
     "start_time": "2021-08-31T07:35:47.953827",
     "status": "completed"
    },
    "tags": []
   },
   "outputs": [],
   "source": [
    "quran['ayah_words'] = quran['text_no_tashkeel'].apply(lambda i : len(i))\n",
    "quran['ayah_letters_with_tashkeel'] = quran['text'].apply(lambda i : len(i))\n",
    "quran['ayah_letters'] = quran['clean_text'].apply(lambda i : len(i))\n",
    "quran['ayah_letters_no_spaces'] = quran['ayah_letters'] - (quran['ayah_words'] - 1)\n",
    "quran['mean_letters/word'] = quran['ayah_letters_no_spaces'] / quran['ayah_words']"
   ]
  },
  {
   "cell_type": "code",
   "execution_count": 11,
   "id": "509ccdf6",
   "metadata": {
    "ExecuteTime": {
     "end_time": "2021-03-03T18:43:43.824870Z",
     "start_time": "2021-03-03T18:43:43.811594Z"
    },
    "execution": {
     "iopub.execute_input": "2021-08-31T07:35:48.196042Z",
     "iopub.status.busy": "2021-08-31T07:35:48.195087Z",
     "iopub.status.idle": "2021-08-31T07:35:48.198347Z",
     "shell.execute_reply": "2021-08-31T07:35:48.198981Z",
     "shell.execute_reply.started": "2021-08-31T07:06:55.537560Z"
    },
    "papermill": {
     "duration": 0.079358,
     "end_time": "2021-08-31T07:35:48.199163",
     "exception": false,
     "start_time": "2021-08-31T07:35:48.119805",
     "status": "completed"
    },
    "tags": []
   },
   "outputs": [
    {
     "data": {
      "text/html": [
       "<div>\n",
       "<style scoped>\n",
       "    .dataframe tbody tr th:only-of-type {\n",
       "        vertical-align: middle;\n",
       "    }\n",
       "\n",
       "    .dataframe tbody tr th {\n",
       "        vertical-align: top;\n",
       "    }\n",
       "\n",
       "    .dataframe thead th {\n",
       "        text-align: right;\n",
       "    }\n",
       "</style>\n",
       "<table border=\"1\" class=\"dataframe\">\n",
       "  <thead>\n",
       "    <tr style=\"text-align: right;\">\n",
       "      <th></th>\n",
       "      <th>surah</th>\n",
       "      <th>ayah</th>\n",
       "      <th>text</th>\n",
       "      <th>tokinized_text</th>\n",
       "      <th>text_no_tashkeel</th>\n",
       "      <th>clean_text</th>\n",
       "      <th>ayah_words</th>\n",
       "      <th>ayah_letters_with_tashkeel</th>\n",
       "      <th>ayah_letters</th>\n",
       "      <th>ayah_letters_no_spaces</th>\n",
       "      <th>mean_letters/word</th>\n",
       "    </tr>\n",
       "  </thead>\n",
       "  <tbody>\n",
       "    <tr>\n",
       "      <th>0</th>\n",
       "      <td>1</td>\n",
       "      <td>1</td>\n",
       "      <td>بِسْمِ اللَّهِ الرَّحْمَٰنِ الرَّحِيمِ</td>\n",
       "      <td>[بِسْمِ, اللَّهِ, الرَّحْمَٰنِ, الرَّحِيمِ]</td>\n",
       "      <td>[بسم, الله, الرحمن, الرحيم]</td>\n",
       "      <td>بسم الله الرحمن الرحيم</td>\n",
       "      <td>4</td>\n",
       "      <td>38</td>\n",
       "      <td>22</td>\n",
       "      <td>19</td>\n",
       "      <td>4.75</td>\n",
       "    </tr>\n",
       "    <tr>\n",
       "      <th>1</th>\n",
       "      <td>1</td>\n",
       "      <td>2</td>\n",
       "      <td>الْحَمْدُ لِلَّهِ رَبِّ الْعَالَمِينَ</td>\n",
       "      <td>[الْحَمْدُ, لِلَّهِ, رَبِّ, الْعَالَمِينَ]</td>\n",
       "      <td>[الحمد, لله, رب, العالمين]</td>\n",
       "      <td>الحمد لله رب العالمين</td>\n",
       "      <td>4</td>\n",
       "      <td>37</td>\n",
       "      <td>21</td>\n",
       "      <td>18</td>\n",
       "      <td>4.50</td>\n",
       "    </tr>\n",
       "    <tr>\n",
       "      <th>2</th>\n",
       "      <td>1</td>\n",
       "      <td>3</td>\n",
       "      <td>الرَّحْمَٰنِ الرَّحِيمِ</td>\n",
       "      <td>[الرَّحْمَٰنِ, الرَّحِيمِ]</td>\n",
       "      <td>[الرحمن, الرحيم]</td>\n",
       "      <td>الرحمن الرحيم</td>\n",
       "      <td>2</td>\n",
       "      <td>23</td>\n",
       "      <td>13</td>\n",
       "      <td>12</td>\n",
       "      <td>6.00</td>\n",
       "    </tr>\n",
       "    <tr>\n",
       "      <th>3</th>\n",
       "      <td>1</td>\n",
       "      <td>4</td>\n",
       "      <td>مَالِكِ يَوْمِ الدِّينِ</td>\n",
       "      <td>[مَالِكِ, يَوْمِ, الدِّينِ]</td>\n",
       "      <td>[مالك, يوم, الدين]</td>\n",
       "      <td>مالك يوم الدين</td>\n",
       "      <td>3</td>\n",
       "      <td>23</td>\n",
       "      <td>14</td>\n",
       "      <td>12</td>\n",
       "      <td>4.00</td>\n",
       "    </tr>\n",
       "    <tr>\n",
       "      <th>4</th>\n",
       "      <td>1</td>\n",
       "      <td>5</td>\n",
       "      <td>إِيَّاكَ نَعْبُدُ وَإِيَّاكَ نَسْتَعِينُ</td>\n",
       "      <td>[إِيَّاكَ, نَعْبُدُ, وَإِيَّاكَ, نَسْتَعِينُ]</td>\n",
       "      <td>[إياك, نعبد, وإياك, نستعين]</td>\n",
       "      <td>إياك نعبد وإياك نستعين</td>\n",
       "      <td>4</td>\n",
       "      <td>40</td>\n",
       "      <td>22</td>\n",
       "      <td>19</td>\n",
       "      <td>4.75</td>\n",
       "    </tr>\n",
       "  </tbody>\n",
       "</table>\n",
       "</div>"
      ],
      "text/plain": [
       "  surah ayah                                      text  \\\n",
       "0     1    1    بِسْمِ اللَّهِ الرَّحْمَٰنِ الرَّحِيمِ   \n",
       "1     1    2     الْحَمْدُ لِلَّهِ رَبِّ الْعَالَمِينَ   \n",
       "2     1    3                   الرَّحْمَٰنِ الرَّحِيمِ   \n",
       "3     1    4                   مَالِكِ يَوْمِ الدِّينِ   \n",
       "4     1    5  إِيَّاكَ نَعْبُدُ وَإِيَّاكَ نَسْتَعِينُ   \n",
       "\n",
       "                                  tokinized_text             text_no_tashkeel  \\\n",
       "0    [بِسْمِ, اللَّهِ, الرَّحْمَٰنِ, الرَّحِيمِ]  [بسم, الله, الرحمن, الرحيم]   \n",
       "1     [الْحَمْدُ, لِلَّهِ, رَبِّ, الْعَالَمِينَ]   [الحمد, لله, رب, العالمين]   \n",
       "2                     [الرَّحْمَٰنِ, الرَّحِيمِ]             [الرحمن, الرحيم]   \n",
       "3                    [مَالِكِ, يَوْمِ, الدِّينِ]           [مالك, يوم, الدين]   \n",
       "4  [إِيَّاكَ, نَعْبُدُ, وَإِيَّاكَ, نَسْتَعِينُ]  [إياك, نعبد, وإياك, نستعين]   \n",
       "\n",
       "               clean_text  ayah_words  ayah_letters_with_tashkeel  \\\n",
       "0  بسم الله الرحمن الرحيم           4                          38   \n",
       "1   الحمد لله رب العالمين           4                          37   \n",
       "2           الرحمن الرحيم           2                          23   \n",
       "3          مالك يوم الدين           3                          23   \n",
       "4  إياك نعبد وإياك نستعين           4                          40   \n",
       "\n",
       "   ayah_letters  ayah_letters_no_spaces  mean_letters/word  \n",
       "0            22                      19               4.75  \n",
       "1            21                      18               4.50  \n",
       "2            13                      12               6.00  \n",
       "3            14                      12               4.00  \n",
       "4            22                      19               4.75  "
      ]
     },
     "execution_count": 11,
     "metadata": {},
     "output_type": "execute_result"
    }
   ],
   "source": [
    "quran.head()"
   ]
  },
  {
   "cell_type": "code",
   "execution_count": 12,
   "id": "b39d021c",
   "metadata": {
    "ExecuteTime": {
     "end_time": "2021-03-03T18:43:43.919284Z",
     "start_time": "2021-03-03T18:43:43.910043Z"
    },
    "execution": {
     "iopub.execute_input": "2021-08-31T07:35:48.318884Z",
     "iopub.status.busy": "2021-08-31T07:35:48.318149Z",
     "iopub.status.idle": "2021-08-31T07:35:48.332558Z",
     "shell.execute_reply": "2021-08-31T07:35:48.332014Z",
     "shell.execute_reply.started": "2021-08-31T07:06:55.562076Z"
    },
    "papermill": {
     "duration": 0.075,
     "end_time": "2021-08-31T07:35:48.332709",
     "exception": false,
     "start_time": "2021-08-31T07:35:48.257709",
     "status": "completed"
    },
    "tags": []
   },
   "outputs": [
    {
     "data": {
      "text/plain": [
       "11    أُولَٰئِكَ عَلَىٰ هُدًى مِنْ رَبِّهِمْ ۖ وَأُو...\n",
       "Name: text, dtype: object"
      ]
     },
     "execution_count": 12,
     "metadata": {},
     "output_type": "execute_result"
    }
   ],
   "source": [
    "quran[quran['surah']=='2']['text'][4:5]"
   ]
  },
  {
   "cell_type": "code",
   "execution_count": 13,
   "id": "3089b4d5",
   "metadata": {
    "ExecuteTime": {
     "end_time": "2021-03-03T18:43:43.927550Z",
     "start_time": "2021-03-03T18:43:43.920893Z"
    },
    "execution": {
     "iopub.execute_input": "2021-08-31T07:35:48.453974Z",
     "iopub.status.busy": "2021-08-31T07:35:48.453010Z",
     "iopub.status.idle": "2021-08-31T07:35:48.460860Z",
     "shell.execute_reply": "2021-08-31T07:35:48.461342Z",
     "shell.execute_reply.started": "2021-08-31T07:06:55.586370Z"
    },
    "papermill": {
     "duration": 0.072286,
     "end_time": "2021-08-31T07:35:48.461529",
     "exception": false,
     "start_time": "2021-08-31T07:35:48.389243",
     "status": "completed"
    },
    "tags": []
   },
   "outputs": [],
   "source": [
    "words_by_surah = quran.groupby('surah').agg({'ayah_words':'sum'}).reset_index()"
   ]
  },
  {
   "cell_type": "code",
   "execution_count": 14,
   "id": "e0dab919",
   "metadata": {
    "ExecuteTime": {
     "end_time": "2021-03-03T18:43:43.931460Z",
     "start_time": "2021-03-03T18:43:43.929024Z"
    },
    "execution": {
     "iopub.execute_input": "2021-08-31T07:35:48.579354Z",
     "iopub.status.busy": "2021-08-31T07:35:48.578366Z",
     "iopub.status.idle": "2021-08-31T07:35:48.582831Z",
     "shell.execute_reply": "2021-08-31T07:35:48.583378Z",
     "shell.execute_reply.started": "2021-08-31T07:06:55.601525Z"
    },
    "papermill": {
     "duration": 0.064943,
     "end_time": "2021-08-31T07:35:48.583559",
     "exception": false,
     "start_time": "2021-08-31T07:35:48.518616",
     "status": "completed"
    },
    "tags": []
   },
   "outputs": [],
   "source": [
    "words_by_surah.columns = ['surah', 'surah_words']"
   ]
  },
  {
   "cell_type": "code",
   "execution_count": 15,
   "id": "bcf1f8b8",
   "metadata": {
    "ExecuteTime": {
     "end_time": "2021-03-03T18:43:43.940950Z",
     "start_time": "2021-03-03T18:43:43.933127Z"
    },
    "execution": {
     "iopub.execute_input": "2021-08-31T07:35:48.702552Z",
     "iopub.status.busy": "2021-08-31T07:35:48.701566Z",
     "iopub.status.idle": "2021-08-31T07:35:48.715609Z",
     "shell.execute_reply": "2021-08-31T07:35:48.715048Z",
     "shell.execute_reply.started": "2021-08-31T07:06:55.608794Z"
    },
    "papermill": {
     "duration": 0.074952,
     "end_time": "2021-08-31T07:35:48.715759",
     "exception": false,
     "start_time": "2021-08-31T07:35:48.640807",
     "status": "completed"
    },
    "tags": []
   },
   "outputs": [
    {
     "data": {
      "text/html": [
       "<div>\n",
       "<style scoped>\n",
       "    .dataframe tbody tr th:only-of-type {\n",
       "        vertical-align: middle;\n",
       "    }\n",
       "\n",
       "    .dataframe tbody tr th {\n",
       "        vertical-align: top;\n",
       "    }\n",
       "\n",
       "    .dataframe thead th {\n",
       "        text-align: right;\n",
       "    }\n",
       "</style>\n",
       "<table border=\"1\" class=\"dataframe\">\n",
       "  <thead>\n",
       "    <tr style=\"text-align: right;\">\n",
       "      <th></th>\n",
       "      <th>surah</th>\n",
       "      <th>surah_words</th>\n",
       "    </tr>\n",
       "  </thead>\n",
       "  <tbody>\n",
       "    <tr>\n",
       "      <th>0</th>\n",
       "      <td>1</td>\n",
       "      <td>29</td>\n",
       "    </tr>\n",
       "    <tr>\n",
       "      <th>1</th>\n",
       "      <td>10</td>\n",
       "      <td>1963</td>\n",
       "    </tr>\n",
       "    <tr>\n",
       "      <th>2</th>\n",
       "      <td>100</td>\n",
       "      <td>44</td>\n",
       "    </tr>\n",
       "    <tr>\n",
       "      <th>3</th>\n",
       "      <td>101</td>\n",
       "      <td>40</td>\n",
       "    </tr>\n",
       "    <tr>\n",
       "      <th>4</th>\n",
       "      <td>102</td>\n",
       "      <td>32</td>\n",
       "    </tr>\n",
       "    <tr>\n",
       "      <th>...</th>\n",
       "      <td>...</td>\n",
       "      <td>...</td>\n",
       "    </tr>\n",
       "    <tr>\n",
       "      <th>109</th>\n",
       "      <td>95</td>\n",
       "      <td>38</td>\n",
       "    </tr>\n",
       "    <tr>\n",
       "      <th>110</th>\n",
       "      <td>96</td>\n",
       "      <td>77</td>\n",
       "    </tr>\n",
       "    <tr>\n",
       "      <th>111</th>\n",
       "      <td>97</td>\n",
       "      <td>34</td>\n",
       "    </tr>\n",
       "    <tr>\n",
       "      <th>112</th>\n",
       "      <td>98</td>\n",
       "      <td>102</td>\n",
       "    </tr>\n",
       "    <tr>\n",
       "      <th>113</th>\n",
       "      <td>99</td>\n",
       "      <td>40</td>\n",
       "    </tr>\n",
       "  </tbody>\n",
       "</table>\n",
       "<p>114 rows × 2 columns</p>\n",
       "</div>"
      ],
      "text/plain": [
       "    surah  surah_words\n",
       "0       1           29\n",
       "1      10         1963\n",
       "2     100           44\n",
       "3     101           40\n",
       "4     102           32\n",
       "..    ...          ...\n",
       "109    95           38\n",
       "110    96           77\n",
       "111    97           34\n",
       "112    98          102\n",
       "113    99           40\n",
       "\n",
       "[114 rows x 2 columns]"
      ]
     },
     "execution_count": 15,
     "metadata": {},
     "output_type": "execute_result"
    }
   ],
   "source": [
    "words_by_surah"
   ]
  },
  {
   "cell_type": "code",
   "execution_count": 16,
   "id": "7c5e2e53",
   "metadata": {
    "ExecuteTime": {
     "end_time": "2021-03-03T18:43:43.967926Z",
     "start_time": "2021-03-03T18:43:43.942410Z"
    },
    "execution": {
     "iopub.execute_input": "2021-08-31T07:35:48.840508Z",
     "iopub.status.busy": "2021-08-31T07:35:48.839819Z",
     "iopub.status.idle": "2021-08-31T07:35:48.867936Z",
     "shell.execute_reply": "2021-08-31T07:35:48.867391Z",
     "shell.execute_reply.started": "2021-08-31T07:06:55.631459Z"
    },
    "papermill": {
     "duration": 0.094405,
     "end_time": "2021-08-31T07:35:48.868103",
     "exception": false,
     "start_time": "2021-08-31T07:35:48.773698",
     "status": "completed"
    },
    "tags": []
   },
   "outputs": [
    {
     "data": {
      "text/html": [
       "<div>\n",
       "<style scoped>\n",
       "    .dataframe tbody tr th:only-of-type {\n",
       "        vertical-align: middle;\n",
       "    }\n",
       "\n",
       "    .dataframe tbody tr th {\n",
       "        vertical-align: top;\n",
       "    }\n",
       "\n",
       "    .dataframe thead th {\n",
       "        text-align: right;\n",
       "    }\n",
       "</style>\n",
       "<table border=\"1\" class=\"dataframe\">\n",
       "  <thead>\n",
       "    <tr style=\"text-align: right;\">\n",
       "      <th></th>\n",
       "      <th>ayah_words</th>\n",
       "      <th>ayah_letters_with_tashkeel</th>\n",
       "      <th>ayah_letters</th>\n",
       "      <th>ayah_letters_no_spaces</th>\n",
       "      <th>mean_letters/word</th>\n",
       "    </tr>\n",
       "  </thead>\n",
       "  <tbody>\n",
       "    <tr>\n",
       "      <th>count</th>\n",
       "      <td>6236.000000</td>\n",
       "      <td>6236.000000</td>\n",
       "      <td>6236.000000</td>\n",
       "      <td>6236.000000</td>\n",
       "      <td>6236.000000</td>\n",
       "    </tr>\n",
       "    <tr>\n",
       "      <th>mean</th>\n",
       "      <td>13.249519</td>\n",
       "      <td>111.491501</td>\n",
       "      <td>65.622996</td>\n",
       "      <td>53.373477</td>\n",
       "      <td>4.185758</td>\n",
       "    </tr>\n",
       "    <tr>\n",
       "      <th>std</th>\n",
       "      <td>10.310090</td>\n",
       "      <td>84.366030</td>\n",
       "      <td>49.879799</td>\n",
       "      <td>39.705801</td>\n",
       "      <td>0.667846</td>\n",
       "    </tr>\n",
       "    <tr>\n",
       "      <th>min</th>\n",
       "      <td>1.000000</td>\n",
       "      <td>3.000000</td>\n",
       "      <td>3.000000</td>\n",
       "      <td>3.000000</td>\n",
       "      <td>2.250000</td>\n",
       "    </tr>\n",
       "    <tr>\n",
       "      <th>25%</th>\n",
       "      <td>6.000000</td>\n",
       "      <td>50.000000</td>\n",
       "      <td>29.000000</td>\n",
       "      <td>24.000000</td>\n",
       "      <td>3.750000</td>\n",
       "    </tr>\n",
       "    <tr>\n",
       "      <th>50%</th>\n",
       "      <td>11.000000</td>\n",
       "      <td>91.000000</td>\n",
       "      <td>53.000000</td>\n",
       "      <td>44.000000</td>\n",
       "      <td>4.083333</td>\n",
       "    </tr>\n",
       "    <tr>\n",
       "      <th>75%</th>\n",
       "      <td>17.000000</td>\n",
       "      <td>146.000000</td>\n",
       "      <td>86.000000</td>\n",
       "      <td>70.000000</td>\n",
       "      <td>4.534615</td>\n",
       "    </tr>\n",
       "    <tr>\n",
       "      <th>max</th>\n",
       "      <td>145.000000</td>\n",
       "      <td>1184.000000</td>\n",
       "      <td>695.000000</td>\n",
       "      <td>551.000000</td>\n",
       "      <td>9.000000</td>\n",
       "    </tr>\n",
       "  </tbody>\n",
       "</table>\n",
       "</div>"
      ],
      "text/plain": [
       "        ayah_words  ayah_letters_with_tashkeel  ayah_letters  \\\n",
       "count  6236.000000                 6236.000000   6236.000000   \n",
       "mean     13.249519                  111.491501     65.622996   \n",
       "std      10.310090                   84.366030     49.879799   \n",
       "min       1.000000                    3.000000      3.000000   \n",
       "25%       6.000000                   50.000000     29.000000   \n",
       "50%      11.000000                   91.000000     53.000000   \n",
       "75%      17.000000                  146.000000     86.000000   \n",
       "max     145.000000                 1184.000000    695.000000   \n",
       "\n",
       "       ayah_letters_no_spaces  mean_letters/word  \n",
       "count             6236.000000        6236.000000  \n",
       "mean                53.373477           4.185758  \n",
       "std                 39.705801           0.667846  \n",
       "min                  3.000000           2.250000  \n",
       "25%                 24.000000           3.750000  \n",
       "50%                 44.000000           4.083333  \n",
       "75%                 70.000000           4.534615  \n",
       "max                551.000000           9.000000  "
      ]
     },
     "execution_count": 16,
     "metadata": {},
     "output_type": "execute_result"
    }
   ],
   "source": [
    "quran.describe()"
   ]
  },
  {
   "cell_type": "code",
   "execution_count": 17,
   "id": "2409aee3",
   "metadata": {
    "ExecuteTime": {
     "end_time": "2021-03-03T18:43:43.973366Z",
     "start_time": "2021-03-03T18:43:43.969854Z"
    },
    "execution": {
     "iopub.execute_input": "2021-08-31T07:35:48.993441Z",
     "iopub.status.busy": "2021-08-31T07:35:48.992729Z",
     "iopub.status.idle": "2021-08-31T07:35:48.996144Z",
     "shell.execute_reply": "2021-08-31T07:35:48.995606Z",
     "shell.execute_reply.started": "2021-08-31T07:06:55.668587Z"
    },
    "papermill": {
     "duration": 0.068407,
     "end_time": "2021-08-31T07:35:48.996336",
     "exception": false,
     "start_time": "2021-08-31T07:35:48.927929",
     "status": "completed"
    },
    "tags": []
   },
   "outputs": [],
   "source": [
    "quran_by_surah = quran[['surah','clean_text']]"
   ]
  },
  {
   "cell_type": "code",
   "execution_count": 18,
   "id": "cf62b383",
   "metadata": {
    "ExecuteTime": {
     "end_time": "2021-03-03T18:43:43.989853Z",
     "start_time": "2021-03-03T18:43:43.983226Z"
    },
    "execution": {
     "iopub.execute_input": "2021-08-31T07:35:49.118430Z",
     "iopub.status.busy": "2021-08-31T07:35:49.117741Z",
     "iopub.status.idle": "2021-08-31T07:35:49.127852Z",
     "shell.execute_reply": "2021-08-31T07:35:49.127162Z",
     "shell.execute_reply.started": "2021-08-31T07:06:55.676325Z"
    },
    "papermill": {
     "duration": 0.072839,
     "end_time": "2021-08-31T07:35:49.127993",
     "exception": false,
     "start_time": "2021-08-31T07:35:49.055154",
     "status": "completed"
    },
    "tags": []
   },
   "outputs": [
    {
     "data": {
      "text/html": [
       "<div>\n",
       "<style scoped>\n",
       "    .dataframe tbody tr th:only-of-type {\n",
       "        vertical-align: middle;\n",
       "    }\n",
       "\n",
       "    .dataframe tbody tr th {\n",
       "        vertical-align: top;\n",
       "    }\n",
       "\n",
       "    .dataframe thead th {\n",
       "        text-align: right;\n",
       "    }\n",
       "</style>\n",
       "<table border=\"1\" class=\"dataframe\">\n",
       "  <thead>\n",
       "    <tr style=\"text-align: right;\">\n",
       "      <th></th>\n",
       "      <th>surah</th>\n",
       "      <th>clean_text</th>\n",
       "    </tr>\n",
       "  </thead>\n",
       "  <tbody>\n",
       "    <tr>\n",
       "      <th>0</th>\n",
       "      <td>1</td>\n",
       "      <td>بسم الله الرحمن الرحيم</td>\n",
       "    </tr>\n",
       "    <tr>\n",
       "      <th>1</th>\n",
       "      <td>1</td>\n",
       "      <td>الحمد لله رب العالمين</td>\n",
       "    </tr>\n",
       "    <tr>\n",
       "      <th>2</th>\n",
       "      <td>1</td>\n",
       "      <td>الرحمن الرحيم</td>\n",
       "    </tr>\n",
       "    <tr>\n",
       "      <th>3</th>\n",
       "      <td>1</td>\n",
       "      <td>مالك يوم الدين</td>\n",
       "    </tr>\n",
       "    <tr>\n",
       "      <th>4</th>\n",
       "      <td>1</td>\n",
       "      <td>إياك نعبد وإياك نستعين</td>\n",
       "    </tr>\n",
       "  </tbody>\n",
       "</table>\n",
       "</div>"
      ],
      "text/plain": [
       "  surah              clean_text\n",
       "0     1  بسم الله الرحمن الرحيم\n",
       "1     1   الحمد لله رب العالمين\n",
       "2     1           الرحمن الرحيم\n",
       "3     1          مالك يوم الدين\n",
       "4     1  إياك نعبد وإياك نستعين"
      ]
     },
     "execution_count": 18,
     "metadata": {},
     "output_type": "execute_result"
    }
   ],
   "source": [
    "quran_by_surah.head()"
   ]
  },
  {
   "cell_type": "code",
   "execution_count": 19,
   "id": "d442445c",
   "metadata": {
    "ExecuteTime": {
     "end_time": "2021-03-03T18:43:44.091919Z",
     "start_time": "2021-03-03T18:43:43.994050Z"
    },
    "execution": {
     "iopub.execute_input": "2021-08-31T07:35:49.250764Z",
     "iopub.status.busy": "2021-08-31T07:35:49.249719Z",
     "iopub.status.idle": "2021-08-31T07:35:49.432234Z",
     "shell.execute_reply": "2021-08-31T07:35:49.432721Z",
     "shell.execute_reply.started": "2021-08-31T07:06:55.698286Z"
    },
    "papermill": {
     "duration": 0.244817,
     "end_time": "2021-08-31T07:35:49.432912",
     "exception": false,
     "start_time": "2021-08-31T07:35:49.188095",
     "status": "completed"
    },
    "tags": []
   },
   "outputs": [],
   "source": [
    "surah_list = []\n",
    "for i in quran_by_surah['surah'].unique():\n",
    "    surah_list.append(list(quran_by_surah[quran_by_surah['surah'] == i]['clean_text']))"
   ]
  },
  {
   "cell_type": "code",
   "execution_count": 20,
   "id": "c3d28f5a",
   "metadata": {
    "ExecuteTime": {
     "end_time": "2021-03-03T18:43:44.098386Z",
     "start_time": "2021-03-03T18:43:44.093453Z"
    },
    "execution": {
     "iopub.execute_input": "2021-08-31T07:35:49.559201Z",
     "iopub.status.busy": "2021-08-31T07:35:49.558081Z",
     "iopub.status.idle": "2021-08-31T07:35:49.566892Z",
     "shell.execute_reply": "2021-08-31T07:35:49.567437Z",
     "shell.execute_reply.started": "2021-08-31T07:06:55.880732Z"
    },
    "papermill": {
     "duration": 0.07504,
     "end_time": "2021-08-31T07:35:49.567649",
     "exception": false,
     "start_time": "2021-08-31T07:35:49.492609",
     "status": "completed"
    },
    "tags": []
   },
   "outputs": [],
   "source": [
    "quran_df = pd.DataFrame()\n",
    "quran_df['surah'] = quran_by_surah['surah'].unique()\n",
    "quran_df['text'] = surah_list"
   ]
  },
  {
   "cell_type": "code",
   "execution_count": 21,
   "id": "113b241b",
   "metadata": {
    "ExecuteTime": {
     "end_time": "2021-03-03T18:43:44.105562Z",
     "start_time": "2021-03-03T18:43:44.100686Z"
    },
    "execution": {
     "iopub.execute_input": "2021-08-31T07:35:49.694033Z",
     "iopub.status.busy": "2021-08-31T07:35:49.692979Z",
     "iopub.status.idle": "2021-08-31T07:35:49.700046Z",
     "shell.execute_reply": "2021-08-31T07:35:49.700561Z",
     "shell.execute_reply.started": "2021-08-31T07:06:55.892232Z"
    },
    "papermill": {
     "duration": 0.071156,
     "end_time": "2021-08-31T07:35:49.700755",
     "exception": false,
     "start_time": "2021-08-31T07:35:49.629599",
     "status": "completed"
    },
    "tags": []
   },
   "outputs": [],
   "source": [
    "quran_df['clean_text'] = quran_df['text'].apply(lambda i : ' '.join(i))"
   ]
  },
  {
   "cell_type": "code",
   "execution_count": 22,
   "id": "e2f2a436",
   "metadata": {
    "ExecuteTime": {
     "end_time": "2021-03-03T18:43:44.113962Z",
     "start_time": "2021-03-03T18:43:44.107703Z"
    },
    "execution": {
     "iopub.execute_input": "2021-08-31T07:35:49.824849Z",
     "iopub.status.busy": "2021-08-31T07:35:49.823809Z",
     "iopub.status.idle": "2021-08-31T07:35:49.831690Z",
     "shell.execute_reply": "2021-08-31T07:35:49.832175Z",
     "shell.execute_reply.started": "2021-08-31T07:06:55.905528Z"
    },
    "papermill": {
     "duration": 0.072693,
     "end_time": "2021-08-31T07:35:49.832407",
     "exception": false,
     "start_time": "2021-08-31T07:35:49.759714",
     "status": "completed"
    },
    "tags": []
   },
   "outputs": [],
   "source": [
    "#fetched from https://en.wikipedia.org/wiki/Meccan_surah\n",
    "makki_surah_list = [96, 68, 73, 74, 1, 111, 81, 87, 92, 89, 93, 94, 103, 100, 108, 102, 107, 109, 105, 113, 114,\n",
    "                  112, 53, 80, 97, 91, 85, 95, 106, 101,75, 104, 77, 50, 90, 86, 54, 38, 7, 72, 36, 25, 35, 19,\n",
    "                  20, 56, 26, 27, 28, 17, 10, 11, 12, 15, 6, 37, 31, 34, 39, 40, 41, 42, 43, 44, 45, 46, 51, 88,\n",
    "                  18, 16, 71, 14, 21, 23, 32, 52, 67, 69, 70, 78, 79, 82, 84, 30, 29, 83]"
   ]
  },
  {
   "cell_type": "code",
   "execution_count": 23,
   "id": "9b067e01",
   "metadata": {
    "ExecuteTime": {
     "end_time": "2021-03-03T18:43:44.119159Z",
     "start_time": "2021-03-03T18:43:44.115659Z"
    },
    "execution": {
     "iopub.execute_input": "2021-08-31T07:35:49.959321Z",
     "iopub.status.busy": "2021-08-31T07:35:49.958603Z",
     "iopub.status.idle": "2021-08-31T07:35:49.961383Z",
     "shell.execute_reply": "2021-08-31T07:35:49.961892Z",
     "shell.execute_reply.started": "2021-08-31T07:06:55.918240Z"
    },
    "papermill": {
     "duration": 0.07045,
     "end_time": "2021-08-31T07:35:49.962084",
     "exception": false,
     "start_time": "2021-08-31T07:35:49.891634",
     "status": "completed"
    },
    "tags": []
   },
   "outputs": [],
   "source": [
    "quran_df['makki'] = [1 if int(i) in makki_surah_list else 0 for i in quran_df['surah']]"
   ]
  },
  {
   "cell_type": "code",
   "execution_count": 24,
   "id": "84fbe3fc",
   "metadata": {
    "ExecuteTime": {
     "end_time": "2021-03-03T18:43:44.124835Z",
     "start_time": "2021-03-03T18:43:44.121376Z"
    },
    "execution": {
     "iopub.execute_input": "2021-08-31T07:35:50.084505Z",
     "iopub.status.busy": "2021-08-31T07:35:50.083406Z",
     "iopub.status.idle": "2021-08-31T07:35:50.089603Z",
     "shell.execute_reply": "2021-08-31T07:35:50.090104Z",
     "shell.execute_reply.started": "2021-08-31T07:06:55.931879Z"
    },
    "papermill": {
     "duration": 0.069838,
     "end_time": "2021-08-31T07:35:50.090309",
     "exception": false,
     "start_time": "2021-08-31T07:35:50.020471",
     "status": "completed"
    },
    "tags": []
   },
   "outputs": [],
   "source": [
    "quran_df['ayahs'] = quran_df['text'].apply(lambda i : len(i))"
   ]
  },
  {
   "cell_type": "code",
   "execution_count": 25,
   "id": "083bc3ec",
   "metadata": {
    "ExecuteTime": {
     "end_time": "2021-03-03T18:43:44.130392Z",
     "start_time": "2021-03-03T18:43:44.126498Z"
    },
    "execution": {
     "iopub.execute_input": "2021-08-31T07:35:50.213472Z",
     "iopub.status.busy": "2021-08-31T07:35:50.212478Z",
     "iopub.status.idle": "2021-08-31T07:35:50.219476Z",
     "shell.execute_reply": "2021-08-31T07:35:50.218782Z",
     "shell.execute_reply.started": "2021-08-31T07:06:55.945570Z"
    },
    "papermill": {
     "duration": 0.068968,
     "end_time": "2021-08-31T07:35:50.219637",
     "exception": false,
     "start_time": "2021-08-31T07:35:50.150669",
     "status": "completed"
    },
    "tags": []
   },
   "outputs": [],
   "source": [
    "quran_df['suras_letters'] = quran_df['clean_text'].apply(lambda i : len(i))"
   ]
  },
  {
   "cell_type": "code",
   "execution_count": 26,
   "id": "97ab2afa",
   "metadata": {
    "ExecuteTime": {
     "end_time": "2021-03-03T18:43:44.150545Z",
     "start_time": "2021-03-03T18:43:44.132613Z"
    },
    "execution": {
     "iopub.execute_input": "2021-08-31T07:35:50.369284Z",
     "iopub.status.busy": "2021-08-31T07:35:50.368191Z",
     "iopub.status.idle": "2021-08-31T07:35:50.372334Z",
     "shell.execute_reply": "2021-08-31T07:35:50.372935Z",
     "shell.execute_reply.started": "2021-08-31T07:06:55.959282Z"
    },
    "papermill": {
     "duration": 0.0944,
     "end_time": "2021-08-31T07:35:50.373106",
     "exception": false,
     "start_time": "2021-08-31T07:35:50.278706",
     "status": "completed"
    },
    "tags": []
   },
   "outputs": [
    {
     "data": {
      "text/html": [
       "<div>\n",
       "<style scoped>\n",
       "    .dataframe tbody tr th:only-of-type {\n",
       "        vertical-align: middle;\n",
       "    }\n",
       "\n",
       "    .dataframe tbody tr th {\n",
       "        vertical-align: top;\n",
       "    }\n",
       "\n",
       "    .dataframe thead th {\n",
       "        text-align: right;\n",
       "    }\n",
       "</style>\n",
       "<table border=\"1\" class=\"dataframe\">\n",
       "  <thead>\n",
       "    <tr style=\"text-align: right;\">\n",
       "      <th></th>\n",
       "      <th>surah</th>\n",
       "      <th>text</th>\n",
       "      <th>clean_text</th>\n",
       "      <th>makki</th>\n",
       "      <th>ayahs</th>\n",
       "      <th>suras_letters</th>\n",
       "    </tr>\n",
       "  </thead>\n",
       "  <tbody>\n",
       "    <tr>\n",
       "      <th>0</th>\n",
       "      <td>1</td>\n",
       "      <td>[بسم الله الرحمن الرحيم, الحمد لله رب العالمين...</td>\n",
       "      <td>بسم الله الرحمن الرحيم الحمد لله رب العالمين ا...</td>\n",
       "      <td>1</td>\n",
       "      <td>7</td>\n",
       "      <td>171</td>\n",
       "    </tr>\n",
       "    <tr>\n",
       "      <th>1</th>\n",
       "      <td>2</td>\n",
       "      <td>[بسم الله الرحمن الرحيم الم, ذلك الكتاب لا ريب...</td>\n",
       "      <td>بسم الله الرحمن الرحيم الم ذلك الكتاب لا ريب  ...</td>\n",
       "      <td>0</td>\n",
       "      <td>286</td>\n",
       "      <td>32882</td>\n",
       "    </tr>\n",
       "    <tr>\n",
       "      <th>2</th>\n",
       "      <td>3</td>\n",
       "      <td>[بسم الله الرحمن الرحيم الم, الله لا إله إلا ه...</td>\n",
       "      <td>بسم الله الرحمن الرحيم الم الله لا إله إلا هو ...</td>\n",
       "      <td>0</td>\n",
       "      <td>200</td>\n",
       "      <td>18714</td>\n",
       "    </tr>\n",
       "    <tr>\n",
       "      <th>3</th>\n",
       "      <td>4</td>\n",
       "      <td>[بسم الله الرحمن الرحيم يا أيها الناس اتقوا رب...</td>\n",
       "      <td>بسم الله الرحمن الرحيم يا أيها الناس اتقوا ربك...</td>\n",
       "      <td>0</td>\n",
       "      <td>176</td>\n",
       "      <td>20372</td>\n",
       "    </tr>\n",
       "    <tr>\n",
       "      <th>4</th>\n",
       "      <td>5</td>\n",
       "      <td>[بسم الله الرحمن الرحيم يا أيها الذين آمنوا أو...</td>\n",
       "      <td>بسم الله الرحمن الرحيم يا أيها الذين آمنوا أوف...</td>\n",
       "      <td>0</td>\n",
       "      <td>120</td>\n",
       "      <td>15267</td>\n",
       "    </tr>\n",
       "    <tr>\n",
       "      <th>...</th>\n",
       "      <td>...</td>\n",
       "      <td>...</td>\n",
       "      <td>...</td>\n",
       "      <td>...</td>\n",
       "      <td>...</td>\n",
       "      <td>...</td>\n",
       "    </tr>\n",
       "    <tr>\n",
       "      <th>109</th>\n",
       "      <td>110</td>\n",
       "      <td>[بسم الله الرحمن الرحيم إذا جاء نصر الله والفت...</td>\n",
       "      <td>بسم الله الرحمن الرحيم إذا جاء نصر الله والفتح...</td>\n",
       "      <td>0</td>\n",
       "      <td>3</td>\n",
       "      <td>122</td>\n",
       "    </tr>\n",
       "    <tr>\n",
       "      <th>110</th>\n",
       "      <td>111</td>\n",
       "      <td>[بسم الله الرحمن الرحيم تبت يدا أبي لهب وتب, م...</td>\n",
       "      <td>بسم الله الرحمن الرحيم تبت يدا أبي لهب وتب ما ...</td>\n",
       "      <td>1</td>\n",
       "      <td>5</td>\n",
       "      <td>126</td>\n",
       "    </tr>\n",
       "    <tr>\n",
       "      <th>111</th>\n",
       "      <td>112</td>\n",
       "      <td>[بسم الله الرحمن الرحيم قل هو الله أحد, الله ا...</td>\n",
       "      <td>بسم الله الرحمن الرحيم قل هو الله أحد الله الص...</td>\n",
       "      <td>1</td>\n",
       "      <td>4</td>\n",
       "      <td>84</td>\n",
       "    </tr>\n",
       "    <tr>\n",
       "      <th>112</th>\n",
       "      <td>113</td>\n",
       "      <td>[بسم الله الرحمن الرحيم قل أعوذ برب الفلق, من ...</td>\n",
       "      <td>بسم الله الرحمن الرحيم قل أعوذ برب الفلق من شر...</td>\n",
       "      <td>1</td>\n",
       "      <td>5</td>\n",
       "      <td>118</td>\n",
       "    </tr>\n",
       "    <tr>\n",
       "      <th>113</th>\n",
       "      <td>114</td>\n",
       "      <td>[بسم الله الرحمن الرحيم قل أعوذ برب الناس, ملك...</td>\n",
       "      <td>بسم الله الرحمن الرحيم قل أعوذ برب الناس ملك ا...</td>\n",
       "      <td>1</td>\n",
       "      <td>6</td>\n",
       "      <td>122</td>\n",
       "    </tr>\n",
       "  </tbody>\n",
       "</table>\n",
       "<p>114 rows × 6 columns</p>\n",
       "</div>"
      ],
      "text/plain": [
       "    surah                                               text  \\\n",
       "0       1  [بسم الله الرحمن الرحيم, الحمد لله رب العالمين...   \n",
       "1       2  [بسم الله الرحمن الرحيم الم, ذلك الكتاب لا ريب...   \n",
       "2       3  [بسم الله الرحمن الرحيم الم, الله لا إله إلا ه...   \n",
       "3       4  [بسم الله الرحمن الرحيم يا أيها الناس اتقوا رب...   \n",
       "4       5  [بسم الله الرحمن الرحيم يا أيها الذين آمنوا أو...   \n",
       "..    ...                                                ...   \n",
       "109   110  [بسم الله الرحمن الرحيم إذا جاء نصر الله والفت...   \n",
       "110   111  [بسم الله الرحمن الرحيم تبت يدا أبي لهب وتب, م...   \n",
       "111   112  [بسم الله الرحمن الرحيم قل هو الله أحد, الله ا...   \n",
       "112   113  [بسم الله الرحمن الرحيم قل أعوذ برب الفلق, من ...   \n",
       "113   114  [بسم الله الرحمن الرحيم قل أعوذ برب الناس, ملك...   \n",
       "\n",
       "                                            clean_text  makki  ayahs  \\\n",
       "0    بسم الله الرحمن الرحيم الحمد لله رب العالمين ا...      1      7   \n",
       "1    بسم الله الرحمن الرحيم الم ذلك الكتاب لا ريب  ...      0    286   \n",
       "2    بسم الله الرحمن الرحيم الم الله لا إله إلا هو ...      0    200   \n",
       "3    بسم الله الرحمن الرحيم يا أيها الناس اتقوا ربك...      0    176   \n",
       "4    بسم الله الرحمن الرحيم يا أيها الذين آمنوا أوف...      0    120   \n",
       "..                                                 ...    ...    ...   \n",
       "109  بسم الله الرحمن الرحيم إذا جاء نصر الله والفتح...      0      3   \n",
       "110  بسم الله الرحمن الرحيم تبت يدا أبي لهب وتب ما ...      1      5   \n",
       "111  بسم الله الرحمن الرحيم قل هو الله أحد الله الص...      1      4   \n",
       "112  بسم الله الرحمن الرحيم قل أعوذ برب الفلق من شر...      1      5   \n",
       "113  بسم الله الرحمن الرحيم قل أعوذ برب الناس ملك ا...      1      6   \n",
       "\n",
       "     suras_letters  \n",
       "0              171  \n",
       "1            32882  \n",
       "2            18714  \n",
       "3            20372  \n",
       "4            15267  \n",
       "..             ...  \n",
       "109            122  \n",
       "110            126  \n",
       "111             84  \n",
       "112            118  \n",
       "113            122  \n",
       "\n",
       "[114 rows x 6 columns]"
      ]
     },
     "execution_count": 26,
     "metadata": {},
     "output_type": "execute_result"
    }
   ],
   "source": [
    "quran_df"
   ]
  },
  {
   "cell_type": "code",
   "execution_count": 27,
   "id": "2a755faf",
   "metadata": {
    "ExecuteTime": {
     "end_time": "2021-03-03T18:43:44.161253Z",
     "start_time": "2021-03-03T18:43:44.152251Z"
    },
    "execution": {
     "iopub.execute_input": "2021-08-31T07:35:50.499346Z",
     "iopub.status.busy": "2021-08-31T07:35:50.498373Z",
     "iopub.status.idle": "2021-08-31T07:35:50.513785Z",
     "shell.execute_reply": "2021-08-31T07:35:50.514301Z",
     "shell.execute_reply.started": "2021-08-31T07:06:55.998154Z"
    },
    "papermill": {
     "duration": 0.08032,
     "end_time": "2021-08-31T07:35:50.514497",
     "exception": false,
     "start_time": "2021-08-31T07:35:50.434177",
     "status": "completed"
    },
    "tags": []
   },
   "outputs": [],
   "source": [
    "df_quran = quran_df.merge(words_by_surah)"
   ]
  },
  {
   "cell_type": "code",
   "execution_count": 28,
   "id": "9c6a5ac6",
   "metadata": {
    "ExecuteTime": {
     "end_time": "2021-03-03T18:43:44.179840Z",
     "start_time": "2021-03-03T18:43:44.162628Z"
    },
    "execution": {
     "iopub.execute_input": "2021-08-31T07:35:50.642692Z",
     "iopub.status.busy": "2021-08-31T07:35:50.641742Z",
     "iopub.status.idle": "2021-08-31T07:35:50.666054Z",
     "shell.execute_reply": "2021-08-31T07:35:50.666570Z",
     "shell.execute_reply.started": "2021-08-31T07:06:56.022314Z"
    },
    "papermill": {
     "duration": 0.091833,
     "end_time": "2021-08-31T07:35:50.666757",
     "exception": false,
     "start_time": "2021-08-31T07:35:50.574924",
     "status": "completed"
    },
    "tags": []
   },
   "outputs": [
    {
     "data": {
      "text/html": [
       "<div>\n",
       "<style scoped>\n",
       "    .dataframe tbody tr th:only-of-type {\n",
       "        vertical-align: middle;\n",
       "    }\n",
       "\n",
       "    .dataframe tbody tr th {\n",
       "        vertical-align: top;\n",
       "    }\n",
       "\n",
       "    .dataframe thead th {\n",
       "        text-align: right;\n",
       "    }\n",
       "</style>\n",
       "<table border=\"1\" class=\"dataframe\">\n",
       "  <thead>\n",
       "    <tr style=\"text-align: right;\">\n",
       "      <th></th>\n",
       "      <th>surah</th>\n",
       "      <th>text</th>\n",
       "      <th>clean_text</th>\n",
       "      <th>makki</th>\n",
       "      <th>ayahs</th>\n",
       "      <th>suras_letters</th>\n",
       "      <th>surah_words</th>\n",
       "    </tr>\n",
       "  </thead>\n",
       "  <tbody>\n",
       "    <tr>\n",
       "      <th>0</th>\n",
       "      <td>1</td>\n",
       "      <td>[بسم الله الرحمن الرحيم, الحمد لله رب العالمين...</td>\n",
       "      <td>بسم الله الرحمن الرحيم الحمد لله رب العالمين ا...</td>\n",
       "      <td>1</td>\n",
       "      <td>7</td>\n",
       "      <td>171</td>\n",
       "      <td>29</td>\n",
       "    </tr>\n",
       "    <tr>\n",
       "      <th>1</th>\n",
       "      <td>2</td>\n",
       "      <td>[بسم الله الرحمن الرحيم الم, ذلك الكتاب لا ريب...</td>\n",
       "      <td>بسم الله الرحمن الرحيم الم ذلك الكتاب لا ريب  ...</td>\n",
       "      <td>0</td>\n",
       "      <td>286</td>\n",
       "      <td>32882</td>\n",
       "      <td>6615</td>\n",
       "    </tr>\n",
       "    <tr>\n",
       "      <th>2</th>\n",
       "      <td>3</td>\n",
       "      <td>[بسم الله الرحمن الرحيم الم, الله لا إله إلا ه...</td>\n",
       "      <td>بسم الله الرحمن الرحيم الم الله لا إله إلا هو ...</td>\n",
       "      <td>0</td>\n",
       "      <td>200</td>\n",
       "      <td>18714</td>\n",
       "      <td>3711</td>\n",
       "    </tr>\n",
       "    <tr>\n",
       "      <th>3</th>\n",
       "      <td>4</td>\n",
       "      <td>[بسم الله الرحمن الرحيم يا أيها الناس اتقوا رب...</td>\n",
       "      <td>بسم الله الرحمن الرحيم يا أيها الناس اتقوا ربك...</td>\n",
       "      <td>0</td>\n",
       "      <td>176</td>\n",
       "      <td>20372</td>\n",
       "      <td>4022</td>\n",
       "    </tr>\n",
       "    <tr>\n",
       "      <th>4</th>\n",
       "      <td>5</td>\n",
       "      <td>[بسم الله الرحمن الرحيم يا أيها الذين آمنوا أو...</td>\n",
       "      <td>بسم الله الرحمن الرحيم يا أيها الذين آمنوا أوف...</td>\n",
       "      <td>0</td>\n",
       "      <td>120</td>\n",
       "      <td>15267</td>\n",
       "      <td>3043</td>\n",
       "    </tr>\n",
       "    <tr>\n",
       "      <th>...</th>\n",
       "      <td>...</td>\n",
       "      <td>...</td>\n",
       "      <td>...</td>\n",
       "      <td>...</td>\n",
       "      <td>...</td>\n",
       "      <td>...</td>\n",
       "      <td>...</td>\n",
       "    </tr>\n",
       "    <tr>\n",
       "      <th>109</th>\n",
       "      <td>110</td>\n",
       "      <td>[بسم الله الرحمن الرحيم إذا جاء نصر الله والفت...</td>\n",
       "      <td>بسم الله الرحمن الرحيم إذا جاء نصر الله والفتح...</td>\n",
       "      <td>0</td>\n",
       "      <td>3</td>\n",
       "      <td>122</td>\n",
       "      <td>24</td>\n",
       "    </tr>\n",
       "    <tr>\n",
       "      <th>110</th>\n",
       "      <td>111</td>\n",
       "      <td>[بسم الله الرحمن الرحيم تبت يدا أبي لهب وتب, م...</td>\n",
       "      <td>بسم الله الرحمن الرحيم تبت يدا أبي لهب وتب ما ...</td>\n",
       "      <td>1</td>\n",
       "      <td>5</td>\n",
       "      <td>126</td>\n",
       "      <td>27</td>\n",
       "    </tr>\n",
       "    <tr>\n",
       "      <th>111</th>\n",
       "      <td>112</td>\n",
       "      <td>[بسم الله الرحمن الرحيم قل هو الله أحد, الله ا...</td>\n",
       "      <td>بسم الله الرحمن الرحيم قل هو الله أحد الله الص...</td>\n",
       "      <td>1</td>\n",
       "      <td>4</td>\n",
       "      <td>84</td>\n",
       "      <td>19</td>\n",
       "    </tr>\n",
       "    <tr>\n",
       "      <th>112</th>\n",
       "      <td>113</td>\n",
       "      <td>[بسم الله الرحمن الرحيم قل أعوذ برب الفلق, من ...</td>\n",
       "      <td>بسم الله الرحمن الرحيم قل أعوذ برب الفلق من شر...</td>\n",
       "      <td>1</td>\n",
       "      <td>5</td>\n",
       "      <td>118</td>\n",
       "      <td>27</td>\n",
       "    </tr>\n",
       "    <tr>\n",
       "      <th>113</th>\n",
       "      <td>114</td>\n",
       "      <td>[بسم الله الرحمن الرحيم قل أعوذ برب الناس, ملك...</td>\n",
       "      <td>بسم الله الرحمن الرحيم قل أعوذ برب الناس ملك ا...</td>\n",
       "      <td>1</td>\n",
       "      <td>6</td>\n",
       "      <td>122</td>\n",
       "      <td>24</td>\n",
       "    </tr>\n",
       "  </tbody>\n",
       "</table>\n",
       "<p>114 rows × 7 columns</p>\n",
       "</div>"
      ],
      "text/plain": [
       "    surah                                               text  \\\n",
       "0       1  [بسم الله الرحمن الرحيم, الحمد لله رب العالمين...   \n",
       "1       2  [بسم الله الرحمن الرحيم الم, ذلك الكتاب لا ريب...   \n",
       "2       3  [بسم الله الرحمن الرحيم الم, الله لا إله إلا ه...   \n",
       "3       4  [بسم الله الرحمن الرحيم يا أيها الناس اتقوا رب...   \n",
       "4       5  [بسم الله الرحمن الرحيم يا أيها الذين آمنوا أو...   \n",
       "..    ...                                                ...   \n",
       "109   110  [بسم الله الرحمن الرحيم إذا جاء نصر الله والفت...   \n",
       "110   111  [بسم الله الرحمن الرحيم تبت يدا أبي لهب وتب, م...   \n",
       "111   112  [بسم الله الرحمن الرحيم قل هو الله أحد, الله ا...   \n",
       "112   113  [بسم الله الرحمن الرحيم قل أعوذ برب الفلق, من ...   \n",
       "113   114  [بسم الله الرحمن الرحيم قل أعوذ برب الناس, ملك...   \n",
       "\n",
       "                                            clean_text  makki  ayahs  \\\n",
       "0    بسم الله الرحمن الرحيم الحمد لله رب العالمين ا...      1      7   \n",
       "1    بسم الله الرحمن الرحيم الم ذلك الكتاب لا ريب  ...      0    286   \n",
       "2    بسم الله الرحمن الرحيم الم الله لا إله إلا هو ...      0    200   \n",
       "3    بسم الله الرحمن الرحيم يا أيها الناس اتقوا ربك...      0    176   \n",
       "4    بسم الله الرحمن الرحيم يا أيها الذين آمنوا أوف...      0    120   \n",
       "..                                                 ...    ...    ...   \n",
       "109  بسم الله الرحمن الرحيم إذا جاء نصر الله والفتح...      0      3   \n",
       "110  بسم الله الرحمن الرحيم تبت يدا أبي لهب وتب ما ...      1      5   \n",
       "111  بسم الله الرحمن الرحيم قل هو الله أحد الله الص...      1      4   \n",
       "112  بسم الله الرحمن الرحيم قل أعوذ برب الفلق من شر...      1      5   \n",
       "113  بسم الله الرحمن الرحيم قل أعوذ برب الناس ملك ا...      1      6   \n",
       "\n",
       "     suras_letters  surah_words  \n",
       "0              171           29  \n",
       "1            32882         6615  \n",
       "2            18714         3711  \n",
       "3            20372         4022  \n",
       "4            15267         3043  \n",
       "..             ...          ...  \n",
       "109            122           24  \n",
       "110            126           27  \n",
       "111             84           19  \n",
       "112            118           27  \n",
       "113            122           24  \n",
       "\n",
       "[114 rows x 7 columns]"
      ]
     },
     "execution_count": 28,
     "metadata": {},
     "output_type": "execute_result"
    }
   ],
   "source": [
    "df_quran"
   ]
  },
  {
   "cell_type": "code",
   "execution_count": 29,
   "id": "001c62c3",
   "metadata": {
    "ExecuteTime": {
     "end_time": "2021-03-03T18:43:44.184621Z",
     "start_time": "2021-03-03T18:43:44.181316Z"
    },
    "execution": {
     "iopub.execute_input": "2021-08-31T07:35:50.797331Z",
     "iopub.status.busy": "2021-08-31T07:35:50.796314Z",
     "iopub.status.idle": "2021-08-31T07:35:50.800172Z",
     "shell.execute_reply": "2021-08-31T07:35:50.799599Z",
     "shell.execute_reply.started": "2021-08-31T07:06:56.053588Z"
    },
    "papermill": {
     "duration": 0.072375,
     "end_time": "2021-08-31T07:35:50.800359",
     "exception": false,
     "start_time": "2021-08-31T07:35:50.727984",
     "status": "completed"
    },
    "tags": []
   },
   "outputs": [],
   "source": [
    "df_quran['surah_letters_no_spaces'] = df_quran['suras_letters'] - (df_quran['surah_words'] - 1)"
   ]
  },
  {
   "cell_type": "code",
   "execution_count": 30,
   "id": "54cc13cc",
   "metadata": {
    "ExecuteTime": {
     "end_time": "2021-03-03T18:43:44.205558Z",
     "start_time": "2021-03-03T18:43:44.186146Z"
    },
    "execution": {
     "iopub.execute_input": "2021-08-31T07:35:50.941055Z",
     "iopub.status.busy": "2021-08-31T07:35:50.939398Z",
     "iopub.status.idle": "2021-08-31T07:35:50.957629Z",
     "shell.execute_reply": "2021-08-31T07:35:50.956958Z",
     "shell.execute_reply.started": "2021-08-31T07:06:56.062132Z"
    },
    "papermill": {
     "duration": 0.093294,
     "end_time": "2021-08-31T07:35:50.957770",
     "exception": false,
     "start_time": "2021-08-31T07:35:50.864476",
     "status": "completed"
    },
    "tags": []
   },
   "outputs": [
    {
     "data": {
      "text/html": [
       "<div>\n",
       "<style scoped>\n",
       "    .dataframe tbody tr th:only-of-type {\n",
       "        vertical-align: middle;\n",
       "    }\n",
       "\n",
       "    .dataframe tbody tr th {\n",
       "        vertical-align: top;\n",
       "    }\n",
       "\n",
       "    .dataframe thead th {\n",
       "        text-align: right;\n",
       "    }\n",
       "</style>\n",
       "<table border=\"1\" class=\"dataframe\">\n",
       "  <thead>\n",
       "    <tr style=\"text-align: right;\">\n",
       "      <th></th>\n",
       "      <th>surah</th>\n",
       "      <th>text</th>\n",
       "      <th>clean_text</th>\n",
       "      <th>makki</th>\n",
       "      <th>ayahs</th>\n",
       "      <th>suras_letters</th>\n",
       "      <th>surah_words</th>\n",
       "      <th>surah_letters_no_spaces</th>\n",
       "    </tr>\n",
       "  </thead>\n",
       "  <tbody>\n",
       "    <tr>\n",
       "      <th>0</th>\n",
       "      <td>1</td>\n",
       "      <td>[بسم الله الرحمن الرحيم, الحمد لله رب العالمين...</td>\n",
       "      <td>بسم الله الرحمن الرحيم الحمد لله رب العالمين ا...</td>\n",
       "      <td>1</td>\n",
       "      <td>7</td>\n",
       "      <td>171</td>\n",
       "      <td>29</td>\n",
       "      <td>143</td>\n",
       "    </tr>\n",
       "    <tr>\n",
       "      <th>1</th>\n",
       "      <td>2</td>\n",
       "      <td>[بسم الله الرحمن الرحيم الم, ذلك الكتاب لا ريب...</td>\n",
       "      <td>بسم الله الرحمن الرحيم الم ذلك الكتاب لا ريب  ...</td>\n",
       "      <td>0</td>\n",
       "      <td>286</td>\n",
       "      <td>32882</td>\n",
       "      <td>6615</td>\n",
       "      <td>26268</td>\n",
       "    </tr>\n",
       "    <tr>\n",
       "      <th>2</th>\n",
       "      <td>3</td>\n",
       "      <td>[بسم الله الرحمن الرحيم الم, الله لا إله إلا ه...</td>\n",
       "      <td>بسم الله الرحمن الرحيم الم الله لا إله إلا هو ...</td>\n",
       "      <td>0</td>\n",
       "      <td>200</td>\n",
       "      <td>18714</td>\n",
       "      <td>3711</td>\n",
       "      <td>15004</td>\n",
       "    </tr>\n",
       "    <tr>\n",
       "      <th>3</th>\n",
       "      <td>4</td>\n",
       "      <td>[بسم الله الرحمن الرحيم يا أيها الناس اتقوا رب...</td>\n",
       "      <td>بسم الله الرحمن الرحيم يا أيها الناس اتقوا ربك...</td>\n",
       "      <td>0</td>\n",
       "      <td>176</td>\n",
       "      <td>20372</td>\n",
       "      <td>4022</td>\n",
       "      <td>16351</td>\n",
       "    </tr>\n",
       "    <tr>\n",
       "      <th>4</th>\n",
       "      <td>5</td>\n",
       "      <td>[بسم الله الرحمن الرحيم يا أيها الذين آمنوا أو...</td>\n",
       "      <td>بسم الله الرحمن الرحيم يا أيها الذين آمنوا أوف...</td>\n",
       "      <td>0</td>\n",
       "      <td>120</td>\n",
       "      <td>15267</td>\n",
       "      <td>3043</td>\n",
       "      <td>12225</td>\n",
       "    </tr>\n",
       "    <tr>\n",
       "      <th>...</th>\n",
       "      <td>...</td>\n",
       "      <td>...</td>\n",
       "      <td>...</td>\n",
       "      <td>...</td>\n",
       "      <td>...</td>\n",
       "      <td>...</td>\n",
       "      <td>...</td>\n",
       "      <td>...</td>\n",
       "    </tr>\n",
       "    <tr>\n",
       "      <th>109</th>\n",
       "      <td>110</td>\n",
       "      <td>[بسم الله الرحمن الرحيم إذا جاء نصر الله والفت...</td>\n",
       "      <td>بسم الله الرحمن الرحيم إذا جاء نصر الله والفتح...</td>\n",
       "      <td>0</td>\n",
       "      <td>3</td>\n",
       "      <td>122</td>\n",
       "      <td>24</td>\n",
       "      <td>99</td>\n",
       "    </tr>\n",
       "    <tr>\n",
       "      <th>110</th>\n",
       "      <td>111</td>\n",
       "      <td>[بسم الله الرحمن الرحيم تبت يدا أبي لهب وتب, م...</td>\n",
       "      <td>بسم الله الرحمن الرحيم تبت يدا أبي لهب وتب ما ...</td>\n",
       "      <td>1</td>\n",
       "      <td>5</td>\n",
       "      <td>126</td>\n",
       "      <td>27</td>\n",
       "      <td>100</td>\n",
       "    </tr>\n",
       "    <tr>\n",
       "      <th>111</th>\n",
       "      <td>112</td>\n",
       "      <td>[بسم الله الرحمن الرحيم قل هو الله أحد, الله ا...</td>\n",
       "      <td>بسم الله الرحمن الرحيم قل هو الله أحد الله الص...</td>\n",
       "      <td>1</td>\n",
       "      <td>4</td>\n",
       "      <td>84</td>\n",
       "      <td>19</td>\n",
       "      <td>66</td>\n",
       "    </tr>\n",
       "    <tr>\n",
       "      <th>112</th>\n",
       "      <td>113</td>\n",
       "      <td>[بسم الله الرحمن الرحيم قل أعوذ برب الفلق, من ...</td>\n",
       "      <td>بسم الله الرحمن الرحيم قل أعوذ برب الفلق من شر...</td>\n",
       "      <td>1</td>\n",
       "      <td>5</td>\n",
       "      <td>118</td>\n",
       "      <td>27</td>\n",
       "      <td>92</td>\n",
       "    </tr>\n",
       "    <tr>\n",
       "      <th>113</th>\n",
       "      <td>114</td>\n",
       "      <td>[بسم الله الرحمن الرحيم قل أعوذ برب الناس, ملك...</td>\n",
       "      <td>بسم الله الرحمن الرحيم قل أعوذ برب الناس ملك ا...</td>\n",
       "      <td>1</td>\n",
       "      <td>6</td>\n",
       "      <td>122</td>\n",
       "      <td>24</td>\n",
       "      <td>99</td>\n",
       "    </tr>\n",
       "  </tbody>\n",
       "</table>\n",
       "<p>114 rows × 8 columns</p>\n",
       "</div>"
      ],
      "text/plain": [
       "    surah                                               text  \\\n",
       "0       1  [بسم الله الرحمن الرحيم, الحمد لله رب العالمين...   \n",
       "1       2  [بسم الله الرحمن الرحيم الم, ذلك الكتاب لا ريب...   \n",
       "2       3  [بسم الله الرحمن الرحيم الم, الله لا إله إلا ه...   \n",
       "3       4  [بسم الله الرحمن الرحيم يا أيها الناس اتقوا رب...   \n",
       "4       5  [بسم الله الرحمن الرحيم يا أيها الذين آمنوا أو...   \n",
       "..    ...                                                ...   \n",
       "109   110  [بسم الله الرحمن الرحيم إذا جاء نصر الله والفت...   \n",
       "110   111  [بسم الله الرحمن الرحيم تبت يدا أبي لهب وتب, م...   \n",
       "111   112  [بسم الله الرحمن الرحيم قل هو الله أحد, الله ا...   \n",
       "112   113  [بسم الله الرحمن الرحيم قل أعوذ برب الفلق, من ...   \n",
       "113   114  [بسم الله الرحمن الرحيم قل أعوذ برب الناس, ملك...   \n",
       "\n",
       "                                            clean_text  makki  ayahs  \\\n",
       "0    بسم الله الرحمن الرحيم الحمد لله رب العالمين ا...      1      7   \n",
       "1    بسم الله الرحمن الرحيم الم ذلك الكتاب لا ريب  ...      0    286   \n",
       "2    بسم الله الرحمن الرحيم الم الله لا إله إلا هو ...      0    200   \n",
       "3    بسم الله الرحمن الرحيم يا أيها الناس اتقوا ربك...      0    176   \n",
       "4    بسم الله الرحمن الرحيم يا أيها الذين آمنوا أوف...      0    120   \n",
       "..                                                 ...    ...    ...   \n",
       "109  بسم الله الرحمن الرحيم إذا جاء نصر الله والفتح...      0      3   \n",
       "110  بسم الله الرحمن الرحيم تبت يدا أبي لهب وتب ما ...      1      5   \n",
       "111  بسم الله الرحمن الرحيم قل هو الله أحد الله الص...      1      4   \n",
       "112  بسم الله الرحمن الرحيم قل أعوذ برب الفلق من شر...      1      5   \n",
       "113  بسم الله الرحمن الرحيم قل أعوذ برب الناس ملك ا...      1      6   \n",
       "\n",
       "     suras_letters  surah_words  surah_letters_no_spaces  \n",
       "0              171           29                      143  \n",
       "1            32882         6615                    26268  \n",
       "2            18714         3711                    15004  \n",
       "3            20372         4022                    16351  \n",
       "4            15267         3043                    12225  \n",
       "..             ...          ...                      ...  \n",
       "109            122           24                       99  \n",
       "110            126           27                      100  \n",
       "111             84           19                       66  \n",
       "112            118           27                       92  \n",
       "113            122           24                       99  \n",
       "\n",
       "[114 rows x 8 columns]"
      ]
     },
     "execution_count": 30,
     "metadata": {},
     "output_type": "execute_result"
    }
   ],
   "source": [
    "df_quran"
   ]
  },
  {
   "cell_type": "code",
   "execution_count": 31,
   "id": "97f53fed",
   "metadata": {
    "ExecuteTime": {
     "end_time": "2021-03-03T18:43:44.210449Z",
     "start_time": "2021-03-03T18:43:44.207307Z"
    },
    "execution": {
     "iopub.execute_input": "2021-08-31T07:35:51.089382Z",
     "iopub.status.busy": "2021-08-31T07:35:51.088651Z",
     "iopub.status.idle": "2021-08-31T07:35:51.092091Z",
     "shell.execute_reply": "2021-08-31T07:35:51.091536Z",
     "shell.execute_reply.started": "2021-08-31T07:06:56.103228Z"
    },
    "papermill": {
     "duration": 0.073344,
     "end_time": "2021-08-31T07:35:51.092261",
     "exception": false,
     "start_time": "2021-08-31T07:35:51.018917",
     "status": "completed"
    },
    "tags": []
   },
   "outputs": [],
   "source": [
    "df_quran['mean_letters/word'] = df_quran['surah_letters_no_spaces'] / df_quran['surah_words']"
   ]
  },
  {
   "cell_type": "code",
   "execution_count": 32,
   "id": "944e02b6",
   "metadata": {
    "ExecuteTime": {
     "end_time": "2021-03-03T18:43:44.231199Z",
     "start_time": "2021-03-03T18:43:44.212129Z"
    },
    "execution": {
     "iopub.execute_input": "2021-08-31T07:35:51.245479Z",
     "iopub.status.busy": "2021-08-31T07:35:51.228413Z",
     "iopub.status.idle": "2021-08-31T07:35:51.260385Z",
     "shell.execute_reply": "2021-08-31T07:35:51.259687Z",
     "shell.execute_reply.started": "2021-08-31T07:06:56.110674Z"
    },
    "papermill": {
     "duration": 0.107436,
     "end_time": "2021-08-31T07:35:51.260550",
     "exception": false,
     "start_time": "2021-08-31T07:35:51.153114",
     "status": "completed"
    },
    "tags": []
   },
   "outputs": [
    {
     "data": {
      "text/html": [
       "<div>\n",
       "<style scoped>\n",
       "    .dataframe tbody tr th:only-of-type {\n",
       "        vertical-align: middle;\n",
       "    }\n",
       "\n",
       "    .dataframe tbody tr th {\n",
       "        vertical-align: top;\n",
       "    }\n",
       "\n",
       "    .dataframe thead th {\n",
       "        text-align: right;\n",
       "    }\n",
       "</style>\n",
       "<table border=\"1\" class=\"dataframe\">\n",
       "  <thead>\n",
       "    <tr style=\"text-align: right;\">\n",
       "      <th></th>\n",
       "      <th>surah</th>\n",
       "      <th>text</th>\n",
       "      <th>clean_text</th>\n",
       "      <th>makki</th>\n",
       "      <th>ayahs</th>\n",
       "      <th>suras_letters</th>\n",
       "      <th>surah_words</th>\n",
       "      <th>surah_letters_no_spaces</th>\n",
       "      <th>mean_letters/word</th>\n",
       "    </tr>\n",
       "  </thead>\n",
       "  <tbody>\n",
       "    <tr>\n",
       "      <th>0</th>\n",
       "      <td>1</td>\n",
       "      <td>[بسم الله الرحمن الرحيم, الحمد لله رب العالمين...</td>\n",
       "      <td>بسم الله الرحمن الرحيم الحمد لله رب العالمين ا...</td>\n",
       "      <td>1</td>\n",
       "      <td>7</td>\n",
       "      <td>171</td>\n",
       "      <td>29</td>\n",
       "      <td>143</td>\n",
       "      <td>4.931034</td>\n",
       "    </tr>\n",
       "    <tr>\n",
       "      <th>1</th>\n",
       "      <td>2</td>\n",
       "      <td>[بسم الله الرحمن الرحيم الم, ذلك الكتاب لا ريب...</td>\n",
       "      <td>بسم الله الرحمن الرحيم الم ذلك الكتاب لا ريب  ...</td>\n",
       "      <td>0</td>\n",
       "      <td>286</td>\n",
       "      <td>32882</td>\n",
       "      <td>6615</td>\n",
       "      <td>26268</td>\n",
       "      <td>3.970975</td>\n",
       "    </tr>\n",
       "    <tr>\n",
       "      <th>2</th>\n",
       "      <td>3</td>\n",
       "      <td>[بسم الله الرحمن الرحيم الم, الله لا إله إلا ه...</td>\n",
       "      <td>بسم الله الرحمن الرحيم الم الله لا إله إلا هو ...</td>\n",
       "      <td>0</td>\n",
       "      <td>200</td>\n",
       "      <td>18714</td>\n",
       "      <td>3711</td>\n",
       "      <td>15004</td>\n",
       "      <td>4.043115</td>\n",
       "    </tr>\n",
       "    <tr>\n",
       "      <th>3</th>\n",
       "      <td>4</td>\n",
       "      <td>[بسم الله الرحمن الرحيم يا أيها الناس اتقوا رب...</td>\n",
       "      <td>بسم الله الرحمن الرحيم يا أيها الناس اتقوا ربك...</td>\n",
       "      <td>0</td>\n",
       "      <td>176</td>\n",
       "      <td>20372</td>\n",
       "      <td>4022</td>\n",
       "      <td>16351</td>\n",
       "      <td>4.065390</td>\n",
       "    </tr>\n",
       "    <tr>\n",
       "      <th>4</th>\n",
       "      <td>5</td>\n",
       "      <td>[بسم الله الرحمن الرحيم يا أيها الذين آمنوا أو...</td>\n",
       "      <td>بسم الله الرحمن الرحيم يا أيها الذين آمنوا أوف...</td>\n",
       "      <td>0</td>\n",
       "      <td>120</td>\n",
       "      <td>15267</td>\n",
       "      <td>3043</td>\n",
       "      <td>12225</td>\n",
       "      <td>4.017417</td>\n",
       "    </tr>\n",
       "    <tr>\n",
       "      <th>...</th>\n",
       "      <td>...</td>\n",
       "      <td>...</td>\n",
       "      <td>...</td>\n",
       "      <td>...</td>\n",
       "      <td>...</td>\n",
       "      <td>...</td>\n",
       "      <td>...</td>\n",
       "      <td>...</td>\n",
       "      <td>...</td>\n",
       "    </tr>\n",
       "    <tr>\n",
       "      <th>109</th>\n",
       "      <td>110</td>\n",
       "      <td>[بسم الله الرحمن الرحيم إذا جاء نصر الله والفت...</td>\n",
       "      <td>بسم الله الرحمن الرحيم إذا جاء نصر الله والفتح...</td>\n",
       "      <td>0</td>\n",
       "      <td>3</td>\n",
       "      <td>122</td>\n",
       "      <td>24</td>\n",
       "      <td>99</td>\n",
       "      <td>4.125000</td>\n",
       "    </tr>\n",
       "    <tr>\n",
       "      <th>110</th>\n",
       "      <td>111</td>\n",
       "      <td>[بسم الله الرحمن الرحيم تبت يدا أبي لهب وتب, م...</td>\n",
       "      <td>بسم الله الرحمن الرحيم تبت يدا أبي لهب وتب ما ...</td>\n",
       "      <td>1</td>\n",
       "      <td>5</td>\n",
       "      <td>126</td>\n",
       "      <td>27</td>\n",
       "      <td>100</td>\n",
       "      <td>3.703704</td>\n",
       "    </tr>\n",
       "    <tr>\n",
       "      <th>111</th>\n",
       "      <td>112</td>\n",
       "      <td>[بسم الله الرحمن الرحيم قل هو الله أحد, الله ا...</td>\n",
       "      <td>بسم الله الرحمن الرحيم قل هو الله أحد الله الص...</td>\n",
       "      <td>1</td>\n",
       "      <td>4</td>\n",
       "      <td>84</td>\n",
       "      <td>19</td>\n",
       "      <td>66</td>\n",
       "      <td>3.473684</td>\n",
       "    </tr>\n",
       "    <tr>\n",
       "      <th>112</th>\n",
       "      <td>113</td>\n",
       "      <td>[بسم الله الرحمن الرحيم قل أعوذ برب الفلق, من ...</td>\n",
       "      <td>بسم الله الرحمن الرحيم قل أعوذ برب الفلق من شر...</td>\n",
       "      <td>1</td>\n",
       "      <td>5</td>\n",
       "      <td>118</td>\n",
       "      <td>27</td>\n",
       "      <td>92</td>\n",
       "      <td>3.407407</td>\n",
       "    </tr>\n",
       "    <tr>\n",
       "      <th>113</th>\n",
       "      <td>114</td>\n",
       "      <td>[بسم الله الرحمن الرحيم قل أعوذ برب الناس, ملك...</td>\n",
       "      <td>بسم الله الرحمن الرحيم قل أعوذ برب الناس ملك ا...</td>\n",
       "      <td>1</td>\n",
       "      <td>6</td>\n",
       "      <td>122</td>\n",
       "      <td>24</td>\n",
       "      <td>99</td>\n",
       "      <td>4.125000</td>\n",
       "    </tr>\n",
       "  </tbody>\n",
       "</table>\n",
       "<p>114 rows × 9 columns</p>\n",
       "</div>"
      ],
      "text/plain": [
       "    surah                                               text  \\\n",
       "0       1  [بسم الله الرحمن الرحيم, الحمد لله رب العالمين...   \n",
       "1       2  [بسم الله الرحمن الرحيم الم, ذلك الكتاب لا ريب...   \n",
       "2       3  [بسم الله الرحمن الرحيم الم, الله لا إله إلا ه...   \n",
       "3       4  [بسم الله الرحمن الرحيم يا أيها الناس اتقوا رب...   \n",
       "4       5  [بسم الله الرحمن الرحيم يا أيها الذين آمنوا أو...   \n",
       "..    ...                                                ...   \n",
       "109   110  [بسم الله الرحمن الرحيم إذا جاء نصر الله والفت...   \n",
       "110   111  [بسم الله الرحمن الرحيم تبت يدا أبي لهب وتب, م...   \n",
       "111   112  [بسم الله الرحمن الرحيم قل هو الله أحد, الله ا...   \n",
       "112   113  [بسم الله الرحمن الرحيم قل أعوذ برب الفلق, من ...   \n",
       "113   114  [بسم الله الرحمن الرحيم قل أعوذ برب الناس, ملك...   \n",
       "\n",
       "                                            clean_text  makki  ayahs  \\\n",
       "0    بسم الله الرحمن الرحيم الحمد لله رب العالمين ا...      1      7   \n",
       "1    بسم الله الرحمن الرحيم الم ذلك الكتاب لا ريب  ...      0    286   \n",
       "2    بسم الله الرحمن الرحيم الم الله لا إله إلا هو ...      0    200   \n",
       "3    بسم الله الرحمن الرحيم يا أيها الناس اتقوا ربك...      0    176   \n",
       "4    بسم الله الرحمن الرحيم يا أيها الذين آمنوا أوف...      0    120   \n",
       "..                                                 ...    ...    ...   \n",
       "109  بسم الله الرحمن الرحيم إذا جاء نصر الله والفتح...      0      3   \n",
       "110  بسم الله الرحمن الرحيم تبت يدا أبي لهب وتب ما ...      1      5   \n",
       "111  بسم الله الرحمن الرحيم قل هو الله أحد الله الص...      1      4   \n",
       "112  بسم الله الرحمن الرحيم قل أعوذ برب الفلق من شر...      1      5   \n",
       "113  بسم الله الرحمن الرحيم قل أعوذ برب الناس ملك ا...      1      6   \n",
       "\n",
       "     suras_letters  surah_words  surah_letters_no_spaces  mean_letters/word  \n",
       "0              171           29                      143           4.931034  \n",
       "1            32882         6615                    26268           3.970975  \n",
       "2            18714         3711                    15004           4.043115  \n",
       "3            20372         4022                    16351           4.065390  \n",
       "4            15267         3043                    12225           4.017417  \n",
       "..             ...          ...                      ...                ...  \n",
       "109            122           24                       99           4.125000  \n",
       "110            126           27                      100           3.703704  \n",
       "111             84           19                       66           3.473684  \n",
       "112            118           27                       92           3.407407  \n",
       "113            122           24                       99           4.125000  \n",
       "\n",
       "[114 rows x 9 columns]"
      ]
     },
     "execution_count": 32,
     "metadata": {},
     "output_type": "execute_result"
    }
   ],
   "source": [
    "df_quran"
   ]
  },
  {
   "cell_type": "code",
   "execution_count": 33,
   "id": "579479c3",
   "metadata": {
    "ExecuteTime": {
     "end_time": "2021-03-03T18:43:44.236177Z",
     "start_time": "2021-03-03T18:43:44.232672Z"
    },
    "execution": {
     "iopub.execute_input": "2021-08-31T07:35:51.397356Z",
     "iopub.status.busy": "2021-08-31T07:35:51.396645Z",
     "iopub.status.idle": "2021-08-31T07:35:51.401432Z",
     "shell.execute_reply": "2021-08-31T07:35:51.400906Z",
     "shell.execute_reply.started": "2021-08-31T07:06:56.149688Z"
    },
    "papermill": {
     "duration": 0.071953,
     "end_time": "2021-08-31T07:35:51.401589",
     "exception": false,
     "start_time": "2021-08-31T07:35:51.329636",
     "status": "completed"
    },
    "tags": []
   },
   "outputs": [
    {
     "data": {
      "text/plain": [
       "Int64Index([  0,   1,   2,   3,   4,   5,   6,   7,   8,   9,\n",
       "            ...\n",
       "            104, 105, 106, 107, 108, 109, 110, 111, 112, 113],\n",
       "           dtype='int64', length=114)"
      ]
     },
     "execution_count": 33,
     "metadata": {},
     "output_type": "execute_result"
    }
   ],
   "source": [
    "df_quran.index"
   ]
  },
  {
   "cell_type": "code",
   "execution_count": 34,
   "id": "278019f8",
   "metadata": {
    "ExecuteTime": {
     "end_time": "2021-03-03T18:43:49.036630Z",
     "start_time": "2021-03-03T18:43:44.237444Z"
    },
    "execution": {
     "iopub.execute_input": "2021-08-31T07:35:51.553636Z",
     "iopub.status.busy": "2021-08-31T07:35:51.552836Z",
     "iopub.status.idle": "2021-08-31T07:35:58.995778Z",
     "shell.execute_reply": "2021-08-31T07:35:58.996325Z",
     "shell.execute_reply.started": "2021-08-31T07:06:56.164838Z"
    },
    "papermill": {
     "duration": 7.531633,
     "end_time": "2021-08-31T07:35:58.996515",
     "exception": false,
     "start_time": "2021-08-31T07:35:51.464882",
     "status": "completed"
    },
    "tags": []
   },
   "outputs": [
    {
     "data": {
      "text/plain": [
       "<seaborn.axisgrid.PairGrid at 0x7f51c3472ed0>"
      ]
     },
     "execution_count": 34,
     "metadata": {},
     "output_type": "execute_result"
    },
    {
     "data": {
      "image/png": "[encoded data removed]",
      "text/plain": [
       "<Figure size 942.375x900 with 30 Axes>"
      ]
     },
     "metadata": {
      "needs_background": "light"
     },
     "output_type": "display_data"
    }
   ],
   "source": [
    "# fig = plt.figure(figsize=(10,10))\n",
    "sns.pairplot(df_quran,hue='makki')"
   ]
  },
  {
   "cell_type": "code",
   "execution_count": 35,
   "id": "ffe05f39",
   "metadata": {
    "ExecuteTime": {
     "end_time": "2021-03-03T18:43:49.059706Z",
     "start_time": "2021-03-03T18:43:49.038257Z"
    },
    "execution": {
     "iopub.execute_input": "2021-08-31T07:35:59.142523Z",
     "iopub.status.busy": "2021-08-31T07:35:59.141775Z",
     "iopub.status.idle": "2021-08-31T07:35:59.169820Z",
     "shell.execute_reply": "2021-08-31T07:35:59.169091Z",
     "shell.execute_reply.started": "2021-08-31T07:07:03.342931Z"
    },
    "papermill": {
     "duration": 0.104246,
     "end_time": "2021-08-31T07:35:59.169964",
     "exception": false,
     "start_time": "2021-08-31T07:35:59.065718",
     "status": "completed"
    },
    "tags": []
   },
   "outputs": [
    {
     "data": {
      "text/html": [
       "<div>\n",
       "<style scoped>\n",
       "    .dataframe tbody tr th:only-of-type {\n",
       "        vertical-align: middle;\n",
       "    }\n",
       "\n",
       "    .dataframe tbody tr th {\n",
       "        vertical-align: top;\n",
       "    }\n",
       "\n",
       "    .dataframe thead th {\n",
       "        text-align: right;\n",
       "    }\n",
       "</style>\n",
       "<table border=\"1\" class=\"dataframe\">\n",
       "  <thead>\n",
       "    <tr style=\"text-align: right;\">\n",
       "      <th></th>\n",
       "      <th>makki</th>\n",
       "      <th>ayahs</th>\n",
       "      <th>suras_letters</th>\n",
       "      <th>surah_words</th>\n",
       "      <th>surah_letters_no_spaces</th>\n",
       "      <th>mean_letters/word</th>\n",
       "    </tr>\n",
       "  </thead>\n",
       "  <tbody>\n",
       "    <tr>\n",
       "      <th>count</th>\n",
       "      <td>114.000000</td>\n",
       "      <td>114.000000</td>\n",
       "      <td>114.000000</td>\n",
       "      <td>114.000000</td>\n",
       "      <td>114.000000</td>\n",
       "      <td>114.000000</td>\n",
       "    </tr>\n",
       "    <tr>\n",
       "      <th>mean</th>\n",
       "      <td>0.754386</td>\n",
       "      <td>54.701754</td>\n",
       "      <td>3643.394737</td>\n",
       "      <td>724.771930</td>\n",
       "      <td>2919.622807</td>\n",
       "      <td>4.125431</td>\n",
       "    </tr>\n",
       "    <tr>\n",
       "      <th>std</th>\n",
       "      <td>0.432351</td>\n",
       "      <td>53.213367</td>\n",
       "      <td>4994.228773</td>\n",
       "      <td>1000.725481</td>\n",
       "      <td>3993.935501</td>\n",
       "      <td>0.264935</td>\n",
       "    </tr>\n",
       "    <tr>\n",
       "      <th>min</th>\n",
       "      <td>0.000000</td>\n",
       "      <td>3.000000</td>\n",
       "      <td>75.000000</td>\n",
       "      <td>14.000000</td>\n",
       "      <td>62.000000</td>\n",
       "      <td>3.407407</td>\n",
       "    </tr>\n",
       "    <tr>\n",
       "      <th>25%</th>\n",
       "      <td>1.000000</td>\n",
       "      <td>15.500000</td>\n",
       "      <td>503.000000</td>\n",
       "      <td>97.500000</td>\n",
       "      <td>406.500000</td>\n",
       "      <td>3.958862</td>\n",
       "    </tr>\n",
       "    <tr>\n",
       "      <th>50%</th>\n",
       "      <td>1.000000</td>\n",
       "      <td>39.000000</td>\n",
       "      <td>1833.000000</td>\n",
       "      <td>356.000000</td>\n",
       "      <td>1470.000000</td>\n",
       "      <td>4.109730</td>\n",
       "    </tr>\n",
       "    <tr>\n",
       "      <th>75%</th>\n",
       "      <td>1.000000</td>\n",
       "      <td>77.750000</td>\n",
       "      <td>4737.500000</td>\n",
       "      <td>933.750000</td>\n",
       "      <td>3829.750000</td>\n",
       "      <td>4.202778</td>\n",
       "    </tr>\n",
       "    <tr>\n",
       "      <th>max</th>\n",
       "      <td>1.000000</td>\n",
       "      <td>286.000000</td>\n",
       "      <td>32882.000000</td>\n",
       "      <td>6615.000000</td>\n",
       "      <td>26268.000000</td>\n",
       "      <td>5.111111</td>\n",
       "    </tr>\n",
       "  </tbody>\n",
       "</table>\n",
       "</div>"
      ],
      "text/plain": [
       "            makki       ayahs  suras_letters  surah_words  \\\n",
       "count  114.000000  114.000000     114.000000   114.000000   \n",
       "mean     0.754386   54.701754    3643.394737   724.771930   \n",
       "std      0.432351   53.213367    4994.228773  1000.725481   \n",
       "min      0.000000    3.000000      75.000000    14.000000   \n",
       "25%      1.000000   15.500000     503.000000    97.500000   \n",
       "50%      1.000000   39.000000    1833.000000   356.000000   \n",
       "75%      1.000000   77.750000    4737.500000   933.750000   \n",
       "max      1.000000  286.000000   32882.000000  6615.000000   \n",
       "\n",
       "       surah_letters_no_spaces  mean_letters/word  \n",
       "count               114.000000         114.000000  \n",
       "mean               2919.622807           4.125431  \n",
       "std                3993.935501           0.264935  \n",
       "min                  62.000000           3.407407  \n",
       "25%                 406.500000           3.958862  \n",
       "50%                1470.000000           4.109730  \n",
       "75%                3829.750000           4.202778  \n",
       "max               26268.000000           5.111111  "
      ]
     },
     "execution_count": 35,
     "metadata": {},
     "output_type": "execute_result"
    }
   ],
   "source": [
    "df_quran.describe()"
   ]
  },
  {
   "cell_type": "code",
   "execution_count": 36,
   "id": "2a21796c",
   "metadata": {
    "ExecuteTime": {
     "end_time": "2021-03-03T18:43:49.080164Z",
     "start_time": "2021-03-03T18:43:49.061422Z"
    },
    "execution": {
     "iopub.execute_input": "2021-08-31T07:35:59.316925Z",
     "iopub.status.busy": "2021-08-31T07:35:59.316135Z",
     "iopub.status.idle": "2021-08-31T07:35:59.343659Z",
     "shell.execute_reply": "2021-08-31T07:35:59.342920Z",
     "shell.execute_reply.started": "2021-08-31T07:07:03.376897Z"
    },
    "papermill": {
     "duration": 0.103912,
     "end_time": "2021-08-31T07:35:59.343814",
     "exception": false,
     "start_time": "2021-08-31T07:35:59.239902",
     "status": "completed"
    },
    "tags": []
   },
   "outputs": [
    {
     "data": {
      "text/html": [
       "<div>\n",
       "<style scoped>\n",
       "    .dataframe tbody tr th:only-of-type {\n",
       "        vertical-align: middle;\n",
       "    }\n",
       "\n",
       "    .dataframe tbody tr th {\n",
       "        vertical-align: top;\n",
       "    }\n",
       "\n",
       "    .dataframe thead th {\n",
       "        text-align: right;\n",
       "    }\n",
       "</style>\n",
       "<table border=\"1\" class=\"dataframe\">\n",
       "  <thead>\n",
       "    <tr style=\"text-align: right;\">\n",
       "      <th></th>\n",
       "      <th>ayah_words</th>\n",
       "      <th>ayah_letters_with_tashkeel</th>\n",
       "      <th>ayah_letters</th>\n",
       "      <th>ayah_letters_no_spaces</th>\n",
       "      <th>mean_letters/word</th>\n",
       "    </tr>\n",
       "  </thead>\n",
       "  <tbody>\n",
       "    <tr>\n",
       "      <th>count</th>\n",
       "      <td>6236.000000</td>\n",
       "      <td>6236.000000</td>\n",
       "      <td>6236.000000</td>\n",
       "      <td>6236.000000</td>\n",
       "      <td>6236.000000</td>\n",
       "    </tr>\n",
       "    <tr>\n",
       "      <th>mean</th>\n",
       "      <td>13.249519</td>\n",
       "      <td>111.491501</td>\n",
       "      <td>65.622996</td>\n",
       "      <td>53.373477</td>\n",
       "      <td>4.185758</td>\n",
       "    </tr>\n",
       "    <tr>\n",
       "      <th>std</th>\n",
       "      <td>10.310090</td>\n",
       "      <td>84.366030</td>\n",
       "      <td>49.879799</td>\n",
       "      <td>39.705801</td>\n",
       "      <td>0.667846</td>\n",
       "    </tr>\n",
       "    <tr>\n",
       "      <th>min</th>\n",
       "      <td>1.000000</td>\n",
       "      <td>3.000000</td>\n",
       "      <td>3.000000</td>\n",
       "      <td>3.000000</td>\n",
       "      <td>2.250000</td>\n",
       "    </tr>\n",
       "    <tr>\n",
       "      <th>25%</th>\n",
       "      <td>6.000000</td>\n",
       "      <td>50.000000</td>\n",
       "      <td>29.000000</td>\n",
       "      <td>24.000000</td>\n",
       "      <td>3.750000</td>\n",
       "    </tr>\n",
       "    <tr>\n",
       "      <th>50%</th>\n",
       "      <td>11.000000</td>\n",
       "      <td>91.000000</td>\n",
       "      <td>53.000000</td>\n",
       "      <td>44.000000</td>\n",
       "      <td>4.083333</td>\n",
       "    </tr>\n",
       "    <tr>\n",
       "      <th>75%</th>\n",
       "      <td>17.000000</td>\n",
       "      <td>146.000000</td>\n",
       "      <td>86.000000</td>\n",
       "      <td>70.000000</td>\n",
       "      <td>4.534615</td>\n",
       "    </tr>\n",
       "    <tr>\n",
       "      <th>max</th>\n",
       "      <td>145.000000</td>\n",
       "      <td>1184.000000</td>\n",
       "      <td>695.000000</td>\n",
       "      <td>551.000000</td>\n",
       "      <td>9.000000</td>\n",
       "    </tr>\n",
       "  </tbody>\n",
       "</table>\n",
       "</div>"
      ],
      "text/plain": [
       "        ayah_words  ayah_letters_with_tashkeel  ayah_letters  \\\n",
       "count  6236.000000                 6236.000000   6236.000000   \n",
       "mean     13.249519                  111.491501     65.622996   \n",
       "std      10.310090                   84.366030     49.879799   \n",
       "min       1.000000                    3.000000      3.000000   \n",
       "25%       6.000000                   50.000000     29.000000   \n",
       "50%      11.000000                   91.000000     53.000000   \n",
       "75%      17.000000                  146.000000     86.000000   \n",
       "max     145.000000                 1184.000000    695.000000   \n",
       "\n",
       "       ayah_letters_no_spaces  mean_letters/word  \n",
       "count             6236.000000        6236.000000  \n",
       "mean                53.373477           4.185758  \n",
       "std                 39.705801           0.667846  \n",
       "min                  3.000000           2.250000  \n",
       "25%                 24.000000           3.750000  \n",
       "50%                 44.000000           4.083333  \n",
       "75%                 70.000000           4.534615  \n",
       "max                551.000000           9.000000  "
      ]
     },
     "execution_count": 36,
     "metadata": {},
     "output_type": "execute_result"
    }
   ],
   "source": [
    "quran.describe()"
   ]
  },
  {
   "cell_type": "code",
   "execution_count": 37,
   "id": "e2842f47",
   "metadata": {
    "ExecuteTime": {
     "end_time": "2021-03-03T18:43:49.093152Z",
     "start_time": "2021-03-03T18:43:49.081841Z"
    },
    "execution": {
     "iopub.execute_input": "2021-08-31T07:35:59.492865Z",
     "iopub.status.busy": "2021-08-31T07:35:59.492087Z",
     "iopub.status.idle": "2021-08-31T07:35:59.506351Z",
     "shell.execute_reply": "2021-08-31T07:35:59.505628Z",
     "shell.execute_reply.started": "2021-08-31T07:07:03.408927Z"
    },
    "papermill": {
     "duration": 0.089982,
     "end_time": "2021-08-31T07:35:59.506506",
     "exception": false,
     "start_time": "2021-08-31T07:35:59.416524",
     "status": "completed"
    },
    "tags": []
   },
   "outputs": [
    {
     "data": {
      "text/html": [
       "<div>\n",
       "<style scoped>\n",
       "    .dataframe tbody tr th:only-of-type {\n",
       "        vertical-align: middle;\n",
       "    }\n",
       "\n",
       "    .dataframe tbody tr th {\n",
       "        vertical-align: top;\n",
       "    }\n",
       "\n",
       "    .dataframe thead th {\n",
       "        text-align: right;\n",
       "    }\n",
       "</style>\n",
       "<table border=\"1\" class=\"dataframe\">\n",
       "  <thead>\n",
       "    <tr style=\"text-align: right;\">\n",
       "      <th></th>\n",
       "      <th>ayah_words</th>\n",
       "      <th>ayah_letters_with_tashkeel</th>\n",
       "      <th>ayah_letters</th>\n",
       "      <th>ayah_letters_no_spaces</th>\n",
       "      <th>mean_letters/word</th>\n",
       "    </tr>\n",
       "  </thead>\n",
       "  <tbody>\n",
       "    <tr>\n",
       "      <th>ayah_words</th>\n",
       "      <td>1.000000</td>\n",
       "      <td>0.989463</td>\n",
       "      <td>0.989511</td>\n",
       "      <td>0.983395</td>\n",
       "      <td>-0.302973</td>\n",
       "    </tr>\n",
       "    <tr>\n",
       "      <th>ayah_letters_with_tashkeel</th>\n",
       "      <td>0.989463</td>\n",
       "      <td>1.000000</td>\n",
       "      <td>0.999315</td>\n",
       "      <td>0.998448</td>\n",
       "      <td>-0.205608</td>\n",
       "    </tr>\n",
       "    <tr>\n",
       "      <th>ayah_letters</th>\n",
       "      <td>0.989511</td>\n",
       "      <td>0.999315</td>\n",
       "      <td>1.000000</td>\n",
       "      <td>0.999296</td>\n",
       "      <td>-0.203533</td>\n",
       "    </tr>\n",
       "    <tr>\n",
       "      <th>ayah_letters_no_spaces</th>\n",
       "      <td>0.983395</td>\n",
       "      <td>0.998448</td>\n",
       "      <td>0.999296</td>\n",
       "      <td>1.000000</td>\n",
       "      <td>-0.177015</td>\n",
       "    </tr>\n",
       "    <tr>\n",
       "      <th>mean_letters/word</th>\n",
       "      <td>-0.302973</td>\n",
       "      <td>-0.205608</td>\n",
       "      <td>-0.203533</td>\n",
       "      <td>-0.177015</td>\n",
       "      <td>1.000000</td>\n",
       "    </tr>\n",
       "  </tbody>\n",
       "</table>\n",
       "</div>"
      ],
      "text/plain": [
       "                            ayah_words  ayah_letters_with_tashkeel  \\\n",
       "ayah_words                    1.000000                    0.989463   \n",
       "ayah_letters_with_tashkeel    0.989463                    1.000000   \n",
       "ayah_letters                  0.989511                    0.999315   \n",
       "ayah_letters_no_spaces        0.983395                    0.998448   \n",
       "mean_letters/word            -0.302973                   -0.205608   \n",
       "\n",
       "                            ayah_letters  ayah_letters_no_spaces  \\\n",
       "ayah_words                      0.989511                0.983395   \n",
       "ayah_letters_with_tashkeel      0.999315                0.998448   \n",
       "ayah_letters                    1.000000                0.999296   \n",
       "ayah_letters_no_spaces          0.999296                1.000000   \n",
       "mean_letters/word              -0.203533               -0.177015   \n",
       "\n",
       "                            mean_letters/word  \n",
       "ayah_words                          -0.302973  \n",
       "ayah_letters_with_tashkeel          -0.205608  \n",
       "ayah_letters                        -0.203533  \n",
       "ayah_letters_no_spaces              -0.177015  \n",
       "mean_letters/word                    1.000000  "
      ]
     },
     "execution_count": 37,
     "metadata": {},
     "output_type": "execute_result"
    }
   ],
   "source": [
    "quran.corr()"
   ]
  },
  {
   "cell_type": "code",
   "execution_count": 38,
   "id": "0f617c6c",
   "metadata": {
    "ExecuteTime": {
     "end_time": "2021-03-03T18:43:49.111453Z",
     "start_time": "2021-03-03T18:43:49.095551Z"
    },
    "execution": {
     "iopub.execute_input": "2021-08-31T07:35:59.661630Z",
     "iopub.status.busy": "2021-08-31T07:35:59.660674Z",
     "iopub.status.idle": "2021-08-31T07:35:59.665797Z",
     "shell.execute_reply": "2021-08-31T07:35:59.665127Z",
     "shell.execute_reply.started": "2021-08-31T07:07:03.427415Z"
    },
    "papermill": {
     "duration": 0.088261,
     "end_time": "2021-08-31T07:35:59.665937",
     "exception": false,
     "start_time": "2021-08-31T07:35:59.577676",
     "status": "completed"
    },
    "tags": []
   },
   "outputs": [
    {
     "data": {
      "text/html": [
       "<div>\n",
       "<style scoped>\n",
       "    .dataframe tbody tr th:only-of-type {\n",
       "        vertical-align: middle;\n",
       "    }\n",
       "\n",
       "    .dataframe tbody tr th {\n",
       "        vertical-align: top;\n",
       "    }\n",
       "\n",
       "    .dataframe thead th {\n",
       "        text-align: right;\n",
       "    }\n",
       "</style>\n",
       "<table border=\"1\" class=\"dataframe\">\n",
       "  <thead>\n",
       "    <tr style=\"text-align: right;\">\n",
       "      <th></th>\n",
       "      <th>makki</th>\n",
       "      <th>ayahs</th>\n",
       "      <th>suras_letters</th>\n",
       "      <th>surah_words</th>\n",
       "      <th>surah_letters_no_spaces</th>\n",
       "      <th>mean_letters/word</th>\n",
       "    </tr>\n",
       "  </thead>\n",
       "  <tbody>\n",
       "    <tr>\n",
       "      <th>makki</th>\n",
       "      <td>1.000000</td>\n",
       "      <td>-0.035138</td>\n",
       "      <td>-0.251364</td>\n",
       "      <td>-0.245369</td>\n",
       "      <td>-0.252839</td>\n",
       "      <td>0.002314</td>\n",
       "    </tr>\n",
       "    <tr>\n",
       "      <th>ayahs</th>\n",
       "      <td>-0.035138</td>\n",
       "      <td>1.000000</td>\n",
       "      <td>0.877275</td>\n",
       "      <td>0.873532</td>\n",
       "      <td>0.878118</td>\n",
       "      <td>-0.168230</td>\n",
       "    </tr>\n",
       "    <tr>\n",
       "      <th>suras_letters</th>\n",
       "      <td>-0.251364</td>\n",
       "      <td>0.877275</td>\n",
       "      <td>1.000000</td>\n",
       "      <td>0.999655</td>\n",
       "      <td>0.999978</td>\n",
       "      <td>-0.256194</td>\n",
       "    </tr>\n",
       "    <tr>\n",
       "      <th>surah_words</th>\n",
       "      <td>-0.245369</td>\n",
       "      <td>0.873532</td>\n",
       "      <td>0.999655</td>\n",
       "      <td>1.000000</td>\n",
       "      <td>0.999460</td>\n",
       "      <td>-0.267782</td>\n",
       "    </tr>\n",
       "    <tr>\n",
       "      <th>surah_letters_no_spaces</th>\n",
       "      <td>-0.252839</td>\n",
       "      <td>0.878118</td>\n",
       "      <td>0.999978</td>\n",
       "      <td>0.999460</td>\n",
       "      <td>1.000000</td>\n",
       "      <td>-0.253262</td>\n",
       "    </tr>\n",
       "    <tr>\n",
       "      <th>mean_letters/word</th>\n",
       "      <td>0.002314</td>\n",
       "      <td>-0.168230</td>\n",
       "      <td>-0.256194</td>\n",
       "      <td>-0.267782</td>\n",
       "      <td>-0.253262</td>\n",
       "      <td>1.000000</td>\n",
       "    </tr>\n",
       "  </tbody>\n",
       "</table>\n",
       "</div>"
      ],
      "text/plain": [
       "                            makki     ayahs  suras_letters  surah_words  \\\n",
       "makki                    1.000000 -0.035138      -0.251364    -0.245369   \n",
       "ayahs                   -0.035138  1.000000       0.877275     0.873532   \n",
       "suras_letters           -0.251364  0.877275       1.000000     0.999655   \n",
       "surah_words             -0.245369  0.873532       0.999655     1.000000   \n",
       "surah_letters_no_spaces -0.252839  0.878118       0.999978     0.999460   \n",
       "mean_letters/word        0.002314 -0.168230      -0.256194    -0.267782   \n",
       "\n",
       "                         surah_letters_no_spaces  mean_letters/word  \n",
       "makki                                  -0.252839           0.002314  \n",
       "ayahs                                   0.878118          -0.168230  \n",
       "suras_letters                           0.999978          -0.256194  \n",
       "surah_words                             0.999460          -0.267782  \n",
       "surah_letters_no_spaces                 1.000000          -0.253262  \n",
       "mean_letters/word                      -0.253262           1.000000  "
      ]
     },
     "execution_count": 38,
     "metadata": {},
     "output_type": "execute_result"
    }
   ],
   "source": [
    "df_quran.corr()"
   ]
  },
  {
   "cell_type": "code",
   "execution_count": 39,
   "id": "8567be04",
   "metadata": {
    "ExecuteTime": {
     "end_time": "2021-03-03T18:43:49.129081Z",
     "start_time": "2021-03-03T18:43:49.114730Z"
    },
    "execution": {
     "iopub.execute_input": "2021-08-31T07:35:59.825206Z",
     "iopub.status.busy": "2021-08-31T07:35:59.824424Z",
     "iopub.status.idle": "2021-08-31T07:35:59.827946Z",
     "shell.execute_reply": "2021-08-31T07:35:59.827371Z",
     "shell.execute_reply.started": "2021-08-31T07:07:03.447975Z"
    },
    "papermill": {
     "duration": 0.092997,
     "end_time": "2021-08-31T07:35:59.828098",
     "exception": false,
     "start_time": "2021-08-31T07:35:59.735101",
     "status": "completed"
    },
    "tags": []
   },
   "outputs": [],
   "source": [
    "quran_to_word = []\n",
    "for i in quran['text_no_tashkeel']:\n",
    "    for c in i:\n",
    "        quran_to_word.append(c)\n",
    "        "
   ]
  },
  {
   "cell_type": "code",
   "execution_count": 40,
   "id": "84c2ac0f",
   "metadata": {
    "ExecuteTime": {
     "end_time": "2021-03-03T18:43:49.154015Z",
     "start_time": "2021-03-03T18:43:49.149994Z"
    },
    "execution": {
     "iopub.execute_input": "2021-08-31T07:35:59.974633Z",
     "iopub.status.busy": "2021-08-31T07:35:59.973965Z",
     "iopub.status.idle": "2021-08-31T07:35:59.978644Z",
     "shell.execute_reply": "2021-08-31T07:35:59.978042Z",
     "shell.execute_reply.started": "2021-08-31T07:07:03.468563Z"
    },
    "papermill": {
     "duration": 0.080642,
     "end_time": "2021-08-31T07:35:59.978788",
     "exception": false,
     "start_time": "2021-08-31T07:35:59.898146",
     "status": "completed"
    },
    "tags": []
   },
   "outputs": [
    {
     "data": {
      "text/plain": [
       "82624"
      ]
     },
     "execution_count": 40,
     "metadata": {},
     "output_type": "execute_result"
    }
   ],
   "source": [
    "len(quran_to_word)"
   ]
  },
  {
   "cell_type": "code",
   "execution_count": 41,
   "id": "865d4113",
   "metadata": {
    "ExecuteTime": {
     "end_time": "2021-03-03T18:43:49.161302Z",
     "start_time": "2021-03-03T18:43:49.155990Z"
    },
    "execution": {
     "iopub.execute_input": "2021-08-31T07:36:00.126788Z",
     "iopub.status.busy": "2021-08-31T07:36:00.126063Z",
     "iopub.status.idle": "2021-08-31T07:36:00.130293Z",
     "shell.execute_reply": "2021-08-31T07:36:00.129640Z",
     "shell.execute_reply.started": "2021-08-31T07:07:03.482547Z"
    },
    "papermill": {
     "duration": 0.080923,
     "end_time": "2021-08-31T07:36:00.130434",
     "exception": false,
     "start_time": "2021-08-31T07:36:00.049511",
     "status": "completed"
    },
    "tags": []
   },
   "outputs": [
    {
     "data": {
      "text/plain": [
       "4379"
      ]
     },
     "execution_count": 41,
     "metadata": {},
     "output_type": "execute_result"
    }
   ],
   "source": [
    "quran_to_word.count('')"
   ]
  },
  {
   "cell_type": "code",
   "execution_count": 42,
   "id": "c1ac791e",
   "metadata": {
    "ExecuteTime": {
     "end_time": "2021-03-03T18:45:21.571916Z",
     "start_time": "2021-03-03T18:43:49.163088Z"
    },
    "execution": {
     "iopub.execute_input": "2021-08-31T07:36:00.301659Z",
     "iopub.status.busy": "2021-08-31T07:36:00.288717Z",
     "iopub.status.idle": "2021-08-31T07:38:28.199621Z",
     "shell.execute_reply": "2021-08-31T07:38:28.200347Z",
     "shell.execute_reply.started": "2021-08-31T07:07:03.497146Z"
    },
    "papermill": {
     "duration": 147.999941,
     "end_time": "2021-08-31T07:38:28.200587",
     "exception": false,
     "start_time": "2021-08-31T07:36:00.200646",
     "status": "completed"
    },
    "tags": []
   },
   "outputs": [],
   "source": [
    "countofwords = {i: quran_to_word.count(i) for i in quran_to_word}"
   ]
  },
  {
   "cell_type": "code",
   "execution_count": 43,
   "id": "17cec4e5",
   "metadata": {
    "ExecuteTime": {
     "end_time": "2021-03-03T18:45:21.594865Z",
     "start_time": "2021-03-03T18:45:21.591377Z"
    },
    "execution": {
     "iopub.execute_input": "2021-08-31T07:38:28.385461Z",
     "iopub.status.busy": "2021-08-31T07:38:28.384770Z",
     "iopub.status.idle": "2021-08-31T07:38:28.388000Z",
     "shell.execute_reply": "2021-08-31T07:38:28.387457Z",
     "shell.execute_reply.started": "2021-08-31T07:09:27.102531Z"
    },
    "papermill": {
     "duration": 0.09722,
     "end_time": "2021-08-31T07:38:28.388150",
     "exception": false,
     "start_time": "2021-08-31T07:38:28.290930",
     "status": "completed"
    },
    "tags": []
   },
   "outputs": [],
   "source": [
    "del countofwords['']"
   ]
  },
  {
   "cell_type": "code",
   "execution_count": 44,
   "id": "dd78762b",
   "metadata": {
    "ExecuteTime": {
     "end_time": "2021-03-03T18:45:21.607348Z",
     "start_time": "2021-03-03T18:45:21.596437Z"
    },
    "execution": {
     "iopub.execute_input": "2021-08-31T07:38:28.531191Z",
     "iopub.status.busy": "2021-08-31T07:38:28.530520Z",
     "iopub.status.idle": "2021-08-31T07:38:28.554428Z",
     "shell.execute_reply": "2021-08-31T07:38:28.553734Z",
     "shell.execute_reply.started": "2021-08-31T07:09:27.108112Z"
    },
    "papermill": {
     "duration": 0.096905,
     "end_time": "2021-08-31T07:38:28.554588",
     "exception": false,
     "start_time": "2021-08-31T07:38:28.457683",
     "status": "completed"
    },
    "tags": []
   },
   "outputs": [],
   "source": [
    "word_count = pd.DataFrame()\n",
    "word_count['word'] = countofwords.keys()\n",
    "word_count['freq'] = countofwords.values()"
   ]
  },
  {
   "cell_type": "code",
   "execution_count": 45,
   "id": "82ea0386",
   "metadata": {
    "ExecuteTime": {
     "end_time": "2021-03-03T18:45:21.612951Z",
     "start_time": "2021-03-03T18:45:21.608777Z"
    },
    "execution": {
     "iopub.execute_input": "2021-08-31T07:38:28.699512Z",
     "iopub.status.busy": "2021-08-31T07:38:28.698840Z",
     "iopub.status.idle": "2021-08-31T07:38:28.707450Z",
     "shell.execute_reply": "2021-08-31T07:38:28.706894Z",
     "shell.execute_reply.started": "2021-08-31T07:09:27.142794Z"
    },
    "papermill": {
     "duration": 0.083159,
     "end_time": "2021-08-31T07:38:28.707603",
     "exception": false,
     "start_time": "2021-08-31T07:38:28.624444",
     "status": "completed"
    },
    "tags": []
   },
   "outputs": [],
   "source": [
    "word_count.sort_values('freq',ascending=False, inplace=True)"
   ]
  },
  {
   "cell_type": "code",
   "execution_count": 46,
   "id": "6d7b0a91",
   "metadata": {
    "ExecuteTime": {
     "end_time": "2021-03-03T18:45:21.621381Z",
     "start_time": "2021-03-03T18:45:21.614096Z"
    },
    "execution": {
     "iopub.execute_input": "2021-08-31T07:38:28.859451Z",
     "iopub.status.busy": "2021-08-31T07:38:28.858730Z",
     "iopub.status.idle": "2021-08-31T07:38:28.861619Z",
     "shell.execute_reply": "2021-08-31T07:38:28.862127Z",
     "shell.execute_reply.started": "2021-08-31T07:09:27.153119Z"
    },
    "papermill": {
     "duration": 0.084406,
     "end_time": "2021-08-31T07:38:28.862317",
     "exception": false,
     "start_time": "2021-08-31T07:38:28.777911",
     "status": "completed"
    },
    "tags": []
   },
   "outputs": [
    {
     "data": {
      "text/html": [
       "<div>\n",
       "<style scoped>\n",
       "    .dataframe tbody tr th:only-of-type {\n",
       "        vertical-align: middle;\n",
       "    }\n",
       "\n",
       "    .dataframe tbody tr th {\n",
       "        vertical-align: top;\n",
       "    }\n",
       "\n",
       "    .dataframe thead th {\n",
       "        text-align: right;\n",
       "    }\n",
       "</style>\n",
       "<table border=\"1\" class=\"dataframe\">\n",
       "  <thead>\n",
       "    <tr style=\"text-align: right;\">\n",
       "      <th></th>\n",
       "      <th>word</th>\n",
       "      <th>freq</th>\n",
       "    </tr>\n",
       "  </thead>\n",
       "  <tbody>\n",
       "    <tr>\n",
       "      <th>46</th>\n",
       "      <td>من</td>\n",
       "      <td>2763</td>\n",
       "    </tr>\n",
       "    <tr>\n",
       "      <th>1</th>\n",
       "      <td>الله</td>\n",
       "      <td>2265</td>\n",
       "    </tr>\n",
       "    <tr>\n",
       "      <th>86</th>\n",
       "      <td>في</td>\n",
       "      <td>1185</td>\n",
       "    </tr>\n",
       "    <tr>\n",
       "      <th>137</th>\n",
       "      <td>ما</td>\n",
       "      <td>1010</td>\n",
       "    </tr>\n",
       "    <tr>\n",
       "      <th>56</th>\n",
       "      <td>إن</td>\n",
       "      <td>966</td>\n",
       "    </tr>\n",
       "    <tr>\n",
       "      <th>29</th>\n",
       "      <td>لا</td>\n",
       "      <td>812</td>\n",
       "    </tr>\n",
       "    <tr>\n",
       "      <th>19</th>\n",
       "      <td>الذين</td>\n",
       "      <td>810</td>\n",
       "    </tr>\n",
       "    <tr>\n",
       "      <th>52</th>\n",
       "      <td>على</td>\n",
       "      <td>670</td>\n",
       "    </tr>\n",
       "    <tr>\n",
       "      <th>83</th>\n",
       "      <td>إلا</td>\n",
       "      <td>664</td>\n",
       "    </tr>\n",
       "    <tr>\n",
       "      <th>24</th>\n",
       "      <td>ولا</td>\n",
       "      <td>658</td>\n",
       "    </tr>\n",
       "    <tr>\n",
       "      <th>45</th>\n",
       "      <td>وما</td>\n",
       "      <td>646</td>\n",
       "    </tr>\n",
       "    <tr>\n",
       "      <th>228</th>\n",
       "      <td>أن</td>\n",
       "      <td>638</td>\n",
       "    </tr>\n",
       "    <tr>\n",
       "      <th>294</th>\n",
       "      <td>قال</td>\n",
       "      <td>416</td>\n",
       "    </tr>\n",
       "    <tr>\n",
       "      <th>113</th>\n",
       "      <td>إلى</td>\n",
       "      <td>405</td>\n",
       "    </tr>\n",
       "    <tr>\n",
       "      <th>95</th>\n",
       "      <td>لهم</td>\n",
       "      <td>373</td>\n",
       "    </tr>\n",
       "    <tr>\n",
       "      <th>179</th>\n",
       "      <td>يا</td>\n",
       "      <td>350</td>\n",
       "    </tr>\n",
       "    <tr>\n",
       "      <th>72</th>\n",
       "      <td>ومن</td>\n",
       "      <td>342</td>\n",
       "    </tr>\n",
       "    <tr>\n",
       "      <th>278</th>\n",
       "      <td>ثم</td>\n",
       "      <td>340</td>\n",
       "    </tr>\n",
       "    <tr>\n",
       "      <th>188</th>\n",
       "      <td>لكم</td>\n",
       "      <td>337</td>\n",
       "    </tr>\n",
       "    <tr>\n",
       "      <th>195</th>\n",
       "      <td>به</td>\n",
       "      <td>327</td>\n",
       "    </tr>\n",
       "  </tbody>\n",
       "</table>\n",
       "</div>"
      ],
      "text/plain": [
       "      word  freq\n",
       "46      من  2763\n",
       "1     الله  2265\n",
       "86      في  1185\n",
       "137     ما  1010\n",
       "56      إن   966\n",
       "29      لا   812\n",
       "19   الذين   810\n",
       "52     على   670\n",
       "83     إلا   664\n",
       "24     ولا   658\n",
       "45     وما   646\n",
       "228     أن   638\n",
       "294    قال   416\n",
       "113    إلى   405\n",
       "95     لهم   373\n",
       "179     يا   350\n",
       "72     ومن   342\n",
       "278     ثم   340\n",
       "188    لكم   337\n",
       "195     به   327"
      ]
     },
     "execution_count": 46,
     "metadata": {},
     "output_type": "execute_result"
    }
   ],
   "source": [
    "word_count.head(20)"
   ]
  },
  {
   "cell_type": "code",
   "execution_count": 47,
   "id": "2b03418f",
   "metadata": {
    "ExecuteTime": {
     "end_time": "2021-03-03T18:45:21.624783Z",
     "start_time": "2021-03-03T18:45:21.622910Z"
    },
    "execution": {
     "iopub.execute_input": "2021-08-31T07:38:29.006631Z",
     "iopub.status.busy": "2021-08-31T07:38:29.005990Z",
     "iopub.status.idle": "2021-08-31T07:38:29.009355Z",
     "shell.execute_reply": "2021-08-31T07:38:29.009878Z",
     "shell.execute_reply.started": "2021-08-31T07:09:27.171498Z"
    },
    "papermill": {
     "duration": 0.077729,
     "end_time": "2021-08-31T07:38:29.010049",
     "exception": false,
     "start_time": "2021-08-31T07:38:28.932320",
     "status": "completed"
    },
    "tags": []
   },
   "outputs": [],
   "source": [
    "# stopwords"
   ]
  },
  {
   "cell_type": "code",
   "execution_count": 48,
   "id": "73841f90",
   "metadata": {
    "execution": {
     "iopub.execute_input": "2021-08-31T07:38:29.156583Z",
     "iopub.status.busy": "2021-08-31T07:38:29.155882Z",
     "iopub.status.idle": "2021-08-31T07:38:38.994465Z",
     "shell.execute_reply": "2021-08-31T07:38:38.993844Z",
     "shell.execute_reply.started": "2021-08-31T07:14:43.581430Z"
    },
    "papermill": {
     "duration": 9.912701,
     "end_time": "2021-08-31T07:38:38.994631",
     "exception": false,
     "start_time": "2021-08-31T07:38:29.081930",
     "status": "completed"
    },
    "tags": []
   },
   "outputs": [
    {
     "name": "stdout",
     "output_type": "stream",
     "text": [
      "Collecting tashaphyne\r\n",
      "  Downloading Tashaphyne-0.3.4.1-py3-none-any.whl (244 kB)\r\n",
      "\u001b[K     |████████████████████████████████| 244 kB 4.4 MB/s \r\n",
      "\u001b[?25hRequirement already satisfied: pyarabic in /opt/conda/lib/python3.7/site-packages (from tashaphyne) (0.6.11)\r\n",
      "Installing collected packages: tashaphyne\r\n",
      "Successfully installed tashaphyne-0.3.4.1\r\n",
      "\u001b[33mWARNING: Running pip as root will break packages and permissions. You should install packages reliably by using venv: https://pip.pypa.io/warnings/venv\u001b[0m\r\n",
      "Note: you may need to restart the kernel to use updated packages.\n"
     ]
    }
   ],
   "source": [
    "pip install tashaphyne\n"
   ]
  },
  {
   "cell_type": "code",
   "execution_count": 49,
   "id": "47e7ba2e",
   "metadata": {
    "execution": {
     "iopub.execute_input": "2021-08-31T07:38:39.153796Z",
     "iopub.status.busy": "2021-08-31T07:38:39.153044Z",
     "iopub.status.idle": "2021-08-31T07:38:47.553727Z",
     "shell.execute_reply": "2021-08-31T07:38:47.552416Z",
     "shell.execute_reply.started": "2021-08-31T07:15:58.352446Z"
    },
    "papermill": {
     "duration": 8.48611,
     "end_time": "2021-08-31T07:38:47.553974",
     "exception": false,
     "start_time": "2021-08-31T07:38:39.067864",
     "status": "completed"
    },
    "tags": []
   },
   "outputs": [
    {
     "name": "stdout",
     "output_type": "stream",
     "text": [
      "Collecting Arabic-Stopwords\r\n",
      "  Downloading Arabic_Stopwords-0.3-py3-none-any.whl (353 kB)\r\n",
      "\u001b[K     |████████████████████████████████| 353 kB 4.4 MB/s \r\n",
      "\u001b[?25hRequirement already satisfied: pyarabic>=0.6.2 in /opt/conda/lib/python3.7/site-packages (from Arabic-Stopwords) (0.6.11)\r\n",
      "Installing collected packages: Arabic-Stopwords\r\n",
      "Successfully installed Arabic-Stopwords-0.3\r\n",
      "\u001b[33mWARNING: Running pip as root will break packages and permissions. You should install packages reliably by using venv: https://pip.pypa.io/warnings/venv\u001b[0m\r\n",
      "Note: you may need to restart the kernel to use updated packages.\n"
     ]
    }
   ],
   "source": [
    "pip install Arabic-Stopwords"
   ]
  },
  {
   "cell_type": "code",
   "execution_count": 50,
   "id": "cce6cf2e",
   "metadata": {
    "ExecuteTime": {
     "end_time": "2021-03-03T18:45:21.735583Z",
     "start_time": "2021-03-03T18:45:21.626246Z"
    },
    "execution": {
     "iopub.execute_input": "2021-08-31T07:38:47.712411Z",
     "iopub.status.busy": "2021-08-31T07:38:47.709474Z",
     "iopub.status.idle": "2021-08-31T07:38:47.775809Z",
     "shell.execute_reply": "2021-08-31T07:38:47.775071Z",
     "shell.execute_reply.started": "2021-08-31T07:16:23.072986Z"
    },
    "papermill": {
     "duration": 0.146073,
     "end_time": "2021-08-31T07:38:47.775961",
     "exception": false,
     "start_time": "2021-08-31T07:38:47.629888",
     "status": "completed"
    },
    "tags": []
   },
   "outputs": [],
   "source": [
    "from tashaphyne import stopwords as tashstopwords\n",
    "from nltk.corpus import stopwords as nltkstopwords\n",
    "import arabicstopwords.arabicstopwords as stp"
   ]
  },
  {
   "cell_type": "code",
   "execution_count": 51,
   "id": "3c36e272",
   "metadata": {
    "ExecuteTime": {
     "end_time": "2021-03-03T18:45:21.740446Z",
     "start_time": "2021-03-03T18:45:21.737235Z"
    },
    "execution": {
     "iopub.execute_input": "2021-08-31T07:38:47.930036Z",
     "iopub.status.busy": "2021-08-31T07:38:47.929380Z",
     "iopub.status.idle": "2021-08-31T07:38:47.940041Z",
     "shell.execute_reply": "2021-08-31T07:38:47.939446Z",
     "shell.execute_reply.started": "2021-08-31T07:16:29.813727Z"
    },
    "papermill": {
     "duration": 0.089182,
     "end_time": "2021-08-31T07:38:47.940241",
     "exception": false,
     "start_time": "2021-08-31T07:38:47.851059",
     "status": "completed"
    },
    "tags": []
   },
   "outputs": [],
   "source": [
    "#https://github.com/mohataher/arabic-stop-words\n",
    "stopWords = open(\"../input/aranizi-dailect-training-data/arabicstopwords.txt\").read().splitlines()"
   ]
  },
  {
   "cell_type": "code",
   "execution_count": 52,
   "id": "e89b61fa",
   "metadata": {
    "ExecuteTime": {
     "end_time": "2021-03-03T18:45:21.748719Z",
     "start_time": "2021-03-03T18:45:21.741621Z"
    },
    "execution": {
     "iopub.execute_input": "2021-08-31T07:38:48.107607Z",
     "iopub.status.busy": "2021-08-31T07:38:48.106930Z",
     "iopub.status.idle": "2021-08-31T07:38:48.119192Z",
     "shell.execute_reply": "2021-08-31T07:38:48.118603Z",
     "shell.execute_reply.started": "2021-08-31T07:16:30.493322Z"
    },
    "papermill": {
     "duration": 0.102628,
     "end_time": "2021-08-31T07:38:48.119367",
     "exception": false,
     "start_time": "2021-08-31T07:38:48.016739",
     "status": "completed"
    },
    "tags": []
   },
   "outputs": [
    {
     "name": "stdout",
     "output_type": "stream",
     "text": [
      "Number of Arabic stopwords in NLTK package:             248\n",
      "Number of Arabic stopwords from github.com/mohataher:   750\n",
      "Number of Arabic stopwords in Tashphyne package:        10339\n",
      "Number of Arabic stopwords in arabicstopwords package:  13629\n"
     ]
    }
   ],
   "source": [
    "print('Number of Arabic stopwords in NLTK package:            ',len(nltkstopwords.words('arabic')))\n",
    "print('Number of Arabic stopwords from github.com/mohataher:  ',len(stopWords))\n",
    "print('Number of Arabic stopwords in Tashphyne package:       ',len(tashstopwords.STOPWORDS.keys()))\n",
    "print('Number of Arabic stopwords in arabicstopwords package: ',len(stp.STOPWORDS.keys()))"
   ]
  },
  {
   "cell_type": "code",
   "execution_count": 53,
   "id": "cdb9b260",
   "metadata": {
    "ExecuteTime": {
     "end_time": "2021-03-03T18:45:21.753073Z",
     "start_time": "2021-03-03T18:45:21.750209Z"
    },
    "execution": {
     "iopub.execute_input": "2021-08-31T07:38:48.276304Z",
     "iopub.status.busy": "2021-08-31T07:38:48.275550Z",
     "iopub.status.idle": "2021-08-31T07:38:48.278292Z",
     "shell.execute_reply": "2021-08-31T07:38:48.278812Z",
     "shell.execute_reply.started": "2021-08-31T07:16:37.311193Z"
    },
    "papermill": {
     "duration": 0.083676,
     "end_time": "2021-08-31T07:38:48.278996",
     "exception": false,
     "start_time": "2021-08-31T07:38:48.195320",
     "status": "completed"
    },
    "tags": []
   },
   "outputs": [],
   "source": [
    "def stopword_remover(text_list ,stopword_lib):\n",
    "    text_no_stop = [word for word in text_list if not word in stopword_lib]\n",
    "    print('Original word count: ',len(text_list))\n",
    "    print('No stopwords count: ' ,len(text_no_stop))"
   ]
  },
  {
   "cell_type": "code",
   "execution_count": 54,
   "id": "c9676a26",
   "metadata": {
    "ExecuteTime": {
     "end_time": "2021-03-03T18:45:21.757897Z",
     "start_time": "2021-03-03T18:45:21.754705Z"
    },
    "execution": {
     "iopub.execute_input": "2021-08-31T07:38:48.434940Z",
     "iopub.status.busy": "2021-08-31T07:38:48.434200Z",
     "iopub.status.idle": "2021-08-31T07:38:48.438181Z",
     "shell.execute_reply": "2021-08-31T07:38:48.437544Z",
     "shell.execute_reply.started": "2021-08-31T07:16:39.990866Z"
    },
    "papermill": {
     "duration": 0.084435,
     "end_time": "2021-08-31T07:38:48.438367",
     "exception": false,
     "start_time": "2021-08-31T07:38:48.353932",
     "status": "completed"
    },
    "tags": []
   },
   "outputs": [],
   "source": [
    "stopwords_list = [('NLTK', nltkstopwords.words('arabic')),\n",
    "                  ('mohataher', stopWords),\n",
    "                  ('tash', tashstopwords.STOPWORDS.keys()),\n",
    "                  ('stp', stp.STOPWORDS.keys())]"
   ]
  },
  {
   "cell_type": "code",
   "execution_count": 55,
   "id": "de6524cf",
   "metadata": {
    "ExecuteTime": {
     "end_time": "2021-03-03T18:45:22.543270Z",
     "start_time": "2021-03-03T18:45:21.759275Z"
    },
    "execution": {
     "iopub.execute_input": "2021-08-31T07:38:48.619905Z",
     "iopub.status.busy": "2021-08-31T07:38:48.604315Z",
     "iopub.status.idle": "2021-08-31T07:38:49.847664Z",
     "shell.execute_reply": "2021-08-31T07:38:49.848189Z",
     "shell.execute_reply.started": "2021-08-31T07:16:42.512236Z"
    },
    "papermill": {
     "duration": 1.333992,
     "end_time": "2021-08-31T07:38:49.848379",
     "exception": false,
     "start_time": "2021-08-31T07:38:48.514387",
     "status": "completed"
    },
    "tags": []
   },
   "outputs": [
    {
     "name": "stdout",
     "output_type": "stream",
     "text": [
      "NLTK\n",
      "Original word count:  82624\n",
      "No stopwords count:  59517\n",
      "mohataher\n",
      "Original word count:  82624\n",
      "No stopwords count:  61244\n",
      "tash\n",
      "Original word count:  82624\n",
      "No stopwords count:  52819\n",
      "stp\n",
      "Original word count:  82624\n",
      "No stopwords count:  52508\n"
     ]
    }
   ],
   "source": [
    "for name, stop in stopwords_list:\n",
    "    print(name)\n",
    "    stopword_remover(quran_to_word,stop)"
   ]
  },
  {
   "cell_type": "code",
   "execution_count": 56,
   "id": "1e72885c",
   "metadata": {
    "ExecuteTime": {
     "end_time": "2021-03-03T18:45:35.600214Z",
     "start_time": "2021-03-03T18:45:22.545216Z"
    },
    "execution": {
     "iopub.execute_input": "2021-08-31T07:38:50.007833Z",
     "iopub.status.busy": "2021-08-31T07:38:50.007052Z",
     "iopub.status.idle": "2021-08-31T07:39:04.395179Z",
     "shell.execute_reply": "2021-08-31T07:39:04.395749Z",
     "shell.execute_reply.started": "2021-08-31T07:16:43.768945Z"
    },
    "papermill": {
     "duration": 14.471589,
     "end_time": "2021-08-31T07:39:04.395926",
     "exception": false,
     "start_time": "2021-08-31T07:38:49.924337",
     "status": "completed"
    },
    "tags": []
   },
   "outputs": [],
   "source": [
    "text_no_stop_NLTK = [word for word in quran_to_word if not word in nltkstopwords.words('arabic')]\n",
    "text_no_stop_mohataher = [word for word in quran_to_word if not word in stopWords]\n",
    "text_no_stop_tash = [word for word in quran_to_word if not word in tashstopwords.STOPWORDS.keys()]\n",
    "text_no_stop_stp = [word for word in quran_to_word if not word in stp.STOPWORDS.keys()]"
   ]
  },
  {
   "cell_type": "code",
   "execution_count": 57,
   "id": "d4f18ff7",
   "metadata": {
    "ExecuteTime": {
     "end_time": "2021-03-03T18:45:35.686786Z",
     "start_time": "2021-03-03T18:45:35.616296Z"
    },
    "execution": {
     "iopub.execute_input": "2021-08-31T07:39:04.555931Z",
     "iopub.status.busy": "2021-08-31T07:39:04.555292Z",
     "iopub.status.idle": "2021-08-31T07:39:04.642981Z",
     "shell.execute_reply": "2021-08-31T07:39:04.642308Z",
     "shell.execute_reply.started": "2021-08-31T07:17:00.466937Z"
    },
    "papermill": {
     "duration": 0.169019,
     "end_time": "2021-08-31T07:39:04.643133",
     "exception": false,
     "start_time": "2021-08-31T07:39:04.474114",
     "status": "completed"
    },
    "tags": []
   },
   "outputs": [],
   "source": [
    "from tashaphyne.stemming import ArabicLightStemmer\n",
    "import pyarabic.arabrepr\n",
    "arepr = pyarabic.arabrepr.ArabicRepr() \n",
    "repr = arepr.repr\n",
    "ArListem = ArabicLightStemmer()"
   ]
  },
  {
   "cell_type": "code",
   "execution_count": 58,
   "id": "14605553",
   "metadata": {
    "ExecuteTime": {
     "end_time": "2021-03-03T18:45:35.691358Z",
     "start_time": "2021-03-03T18:45:35.688607Z"
    },
    "execution": {
     "iopub.execute_input": "2021-08-31T07:39:04.803987Z",
     "iopub.status.busy": "2021-08-31T07:39:04.803334Z",
     "iopub.status.idle": "2021-08-31T07:39:04.806667Z",
     "shell.execute_reply": "2021-08-31T07:39:04.806090Z",
     "shell.execute_reply.started": "2021-08-31T07:17:08.792268Z"
    },
    "papermill": {
     "duration": 0.086184,
     "end_time": "2021-08-31T07:39:04.806816",
     "exception": false,
     "start_time": "2021-08-31T07:39:04.720632",
     "status": "completed"
    },
    "tags": []
   },
   "outputs": [],
   "source": [
    "from nltk.stem.isri import ISRIStemmer\n",
    "isrst = ISRIStemmer()"
   ]
  },
  {
   "cell_type": "code",
   "execution_count": 59,
   "id": "0e3ec040",
   "metadata": {
    "execution": {
     "iopub.execute_input": "2021-08-31T07:39:05.031200Z",
     "iopub.status.busy": "2021-08-31T07:39:05.024912Z",
     "iopub.status.idle": "2021-08-31T07:39:12.788355Z",
     "shell.execute_reply": "2021-08-31T07:39:12.789282Z",
     "shell.execute_reply.started": "2021-08-31T07:33:36.266199Z"
    },
    "papermill": {
     "duration": 7.849292,
     "end_time": "2021-08-31T07:39:12.789525",
     "exception": false,
     "start_time": "2021-08-31T07:39:04.940233",
     "status": "completed"
    },
    "tags": []
   },
   "outputs": [
    {
     "name": "stdout",
     "output_type": "stream",
     "text": [
      "Collecting snowballstemmer\r\n",
      "  Downloading snowballstemmer-2.1.0-py2.py3-none-any.whl (93 kB)\r\n",
      "\u001b[K     |████████████████████████████████| 93 kB 1.1 MB/s \r\n",
      "\u001b[?25hInstalling collected packages: snowballstemmer\r\n",
      "Successfully installed snowballstemmer-2.1.0\r\n",
      "\u001b[33mWARNING: Running pip as root will break packages and permissions. You should install packages reliably by using venv: https://pip.pypa.io/warnings/venv\u001b[0m\r\n",
      "Note: you may need to restart the kernel to use updated packages.\n"
     ]
    }
   ],
   "source": [
    "pip install snowballstemmer"
   ]
  },
  {
   "cell_type": "code",
   "execution_count": 60,
   "id": "d40bb9ff",
   "metadata": {
    "ExecuteTime": {
     "end_time": "2021-03-03T18:45:35.749592Z",
     "start_time": "2021-03-03T18:45:35.699441Z"
    },
    "execution": {
     "iopub.execute_input": "2021-08-31T07:39:12.953401Z",
     "iopub.status.busy": "2021-08-31T07:39:12.952701Z",
     "iopub.status.idle": "2021-08-31T07:39:12.991246Z",
     "shell.execute_reply": "2021-08-31T07:39:12.991735Z",
     "shell.execute_reply.started": "2021-08-31T07:33:48.472624Z"
    },
    "papermill": {
     "duration": 0.122304,
     "end_time": "2021-08-31T07:39:12.991921",
     "exception": false,
     "start_time": "2021-08-31T07:39:12.869617",
     "status": "completed"
    },
    "tags": []
   },
   "outputs": [],
   "source": [
    "from snowballstemmer import stemmer\n",
    "ar_stemmer = stemmer(\"arabic\")"
   ]
  },
  {
   "cell_type": "code",
   "execution_count": 61,
   "id": "303e9591",
   "metadata": {
    "ExecuteTime": {
     "end_time": "2021-03-03T18:45:35.754845Z",
     "start_time": "2021-03-03T18:45:35.751050Z"
    },
    "execution": {
     "iopub.execute_input": "2021-08-31T07:39:13.159395Z",
     "iopub.status.busy": "2021-08-31T07:39:13.158373Z",
     "iopub.status.idle": "2021-08-31T07:39:13.163369Z",
     "shell.execute_reply": "2021-08-31T07:39:13.162845Z",
     "shell.execute_reply.started": "2021-08-31T07:33:58.553492Z"
    },
    "papermill": {
     "duration": 0.090178,
     "end_time": "2021-08-31T07:39:13.163517",
     "exception": false,
     "start_time": "2021-08-31T07:39:13.073339",
     "status": "completed"
    },
    "tags": []
   },
   "outputs": [
    {
     "data": {
      "text/plain": [
       "52508"
      ]
     },
     "execution_count": 61,
     "metadata": {},
     "output_type": "execute_result"
    }
   ],
   "source": [
    "len(text_no_stop_stp)"
   ]
  },
  {
   "cell_type": "code",
   "execution_count": 62,
   "id": "3f75da8d",
   "metadata": {
    "ExecuteTime": {
     "end_time": "2021-03-03T18:45:35.787923Z",
     "start_time": "2021-03-03T18:45:35.764862Z"
    },
    "execution": {
     "iopub.execute_input": "2021-08-31T07:39:13.346358Z",
     "iopub.status.busy": "2021-08-31T07:39:13.337246Z",
     "iopub.status.idle": "2021-08-31T07:39:13.366394Z",
     "shell.execute_reply": "2021-08-31T07:39:13.365652Z",
     "shell.execute_reply.started": "2021-08-31T07:34:00.694467Z"
    },
    "papermill": {
     "duration": 0.121737,
     "end_time": "2021-08-31T07:39:13.366546",
     "exception": false,
     "start_time": "2021-08-31T07:39:13.244809",
     "status": "completed"
    },
    "tags": []
   },
   "outputs": [
    {
     "data": {
      "text/plain": [
       "13992"
      ]
     },
     "execution_count": 62,
     "metadata": {},
     "output_type": "execute_result"
    }
   ],
   "source": [
    "len(np.unique(text_no_stop_stp))"
   ]
  },
  {
   "cell_type": "code",
   "execution_count": 63,
   "id": "ac21e714",
   "metadata": {
    "ExecuteTime": {
     "end_time": "2021-03-03T18:45:38.723064Z",
     "start_time": "2021-03-03T18:45:35.790543Z"
    },
    "execution": {
     "iopub.execute_input": "2021-08-31T07:39:13.543286Z",
     "iopub.status.busy": "2021-08-31T07:39:13.537525Z",
     "iopub.status.idle": "2021-08-31T07:39:18.139463Z",
     "shell.execute_reply": "2021-08-31T07:39:18.138834Z",
     "shell.execute_reply.started": "2021-08-31T07:34:21.736360Z"
    },
    "papermill": {
     "duration": 4.694499,
     "end_time": "2021-08-31T07:39:18.139612",
     "exception": false,
     "start_time": "2021-08-31T07:39:13.445113",
     "status": "completed"
    },
    "tags": []
   },
   "outputs": [],
   "source": [
    "stemmed_words_tash = [ArListem.light_stem(i) for i in np.unique(text_no_stop_stp)]\n",
    "stemmed_words_nltk_isrst = [isrst.stem(i) for i in np.unique(text_no_stop_stp)]\n",
    "# stemmed_words_nltk_arlstem = [arlstem.stem(i) for i in np.unique(text_no_stop_stp)]\n",
    "stemmed_words_ar_stemmer = [ar_stemmer.stemWord(i) for i in np.unique(text_no_stop_stp)]"
   ]
  },
  {
   "cell_type": "code",
   "execution_count": 64,
   "id": "8219f168",
   "metadata": {
    "ExecuteTime": {
     "end_time": "2021-03-03T18:45:38.762283Z",
     "start_time": "2021-03-03T18:45:38.725704Z"
    },
    "execution": {
     "iopub.execute_input": "2021-08-31T07:39:18.313956Z",
     "iopub.status.busy": "2021-08-31T07:39:18.313168Z",
     "iopub.status.idle": "2021-08-31T07:39:18.348600Z",
     "shell.execute_reply": "2021-08-31T07:39:18.347912Z",
     "shell.execute_reply.started": "2021-08-31T07:34:26.347443Z"
    },
    "papermill": {
     "duration": 0.129236,
     "end_time": "2021-08-31T07:39:18.348756",
     "exception": false,
     "start_time": "2021-08-31T07:39:18.219520",
     "status": "completed"
    },
    "tags": []
   },
   "outputs": [],
   "source": [
    "stemmed_text = pd.DataFrame()\n",
    "stemmed_text['original'] = np.unique(text_no_stop_stp)\n",
    "stemmed_text['tash'] = stemmed_words_tash\n",
    "stemmed_text['nltk_isrst'] = stemmed_words_nltk_isrst\n",
    "# stemmed_text['nltk_arlstem'] = stemmed_words_nltk_arlstem\n",
    "stemmed_text['ar_stemmer'] = stemmed_words_ar_stemmer"
   ]
  },
  {
   "cell_type": "code",
   "execution_count": 65,
   "id": "bd523330",
   "metadata": {
    "ExecuteTime": {
     "end_time": "2021-03-03T18:45:38.790930Z",
     "start_time": "2021-03-03T18:45:38.766337Z"
    },
    "execution": {
     "iopub.execute_input": "2021-08-31T07:39:18.526418Z",
     "iopub.status.busy": "2021-08-31T07:39:18.525648Z",
     "iopub.status.idle": "2021-08-31T07:39:18.530752Z",
     "shell.execute_reply": "2021-08-31T07:39:18.530205Z",
     "shell.execute_reply.started": "2021-08-31T07:34:30.585125Z"
    },
    "papermill": {
     "duration": 0.10387,
     "end_time": "2021-08-31T07:39:18.530888",
     "exception": false,
     "start_time": "2021-08-31T07:39:18.427018",
     "status": "completed"
    },
    "tags": []
   },
   "outputs": [
    {
     "data": {
      "text/html": [
       "<div>\n",
       "<style scoped>\n",
       "    .dataframe tbody tr th:only-of-type {\n",
       "        vertical-align: middle;\n",
       "    }\n",
       "\n",
       "    .dataframe tbody tr th {\n",
       "        vertical-align: top;\n",
       "    }\n",
       "\n",
       "    .dataframe thead th {\n",
       "        text-align: right;\n",
       "    }\n",
       "</style>\n",
       "<table border=\"1\" class=\"dataframe\">\n",
       "  <thead>\n",
       "    <tr style=\"text-align: right;\">\n",
       "      <th></th>\n",
       "      <th>original</th>\n",
       "      <th>tash</th>\n",
       "      <th>nltk_isrst</th>\n",
       "      <th>ar_stemmer</th>\n",
       "    </tr>\n",
       "  </thead>\n",
       "  <tbody>\n",
       "    <tr>\n",
       "      <th>0</th>\n",
       "      <td></td>\n",
       "      <td></td>\n",
       "      <td></td>\n",
       "      <td></td>\n",
       "    </tr>\n",
       "    <tr>\n",
       "      <th>1</th>\n",
       "      <td>آباء</td>\n",
       "      <td>آباء</td>\n",
       "      <td>ابء</td>\n",
       "      <td>اباء</td>\n",
       "    </tr>\n",
       "    <tr>\n",
       "      <th>2</th>\n",
       "      <td>آباءكم</td>\n",
       "      <td>آباءكم</td>\n",
       "      <td>ابء</td>\n",
       "      <td>اباء</td>\n",
       "    </tr>\n",
       "    <tr>\n",
       "      <th>3</th>\n",
       "      <td>آباءنا</td>\n",
       "      <td>آباءن</td>\n",
       "      <td>ابء</td>\n",
       "      <td>اباء</td>\n",
       "    </tr>\n",
       "    <tr>\n",
       "      <th>4</th>\n",
       "      <td>آباءهم</td>\n",
       "      <td>آباءهم</td>\n",
       "      <td>ابء</td>\n",
       "      <td>اباء</td>\n",
       "    </tr>\n",
       "    <tr>\n",
       "      <th>5</th>\n",
       "      <td>آباؤكم</td>\n",
       "      <td>آباؤكم</td>\n",
       "      <td>ابؤ</td>\n",
       "      <td>اباء</td>\n",
       "    </tr>\n",
       "    <tr>\n",
       "      <th>6</th>\n",
       "      <td>آباؤنا</td>\n",
       "      <td>آباؤن</td>\n",
       "      <td>ابؤ</td>\n",
       "      <td>اباء</td>\n",
       "    </tr>\n",
       "    <tr>\n",
       "      <th>7</th>\n",
       "      <td>آباؤهم</td>\n",
       "      <td>آباؤهم</td>\n",
       "      <td>ابؤ</td>\n",
       "      <td>اباء</td>\n",
       "    </tr>\n",
       "    <tr>\n",
       "      <th>8</th>\n",
       "      <td>آبائك</td>\n",
       "      <td>آبائك</td>\n",
       "      <td>بئك</td>\n",
       "      <td>اباء</td>\n",
       "    </tr>\n",
       "    <tr>\n",
       "      <th>9</th>\n",
       "      <td>آبائكم</td>\n",
       "      <td>آبائكم</td>\n",
       "      <td>ابئ</td>\n",
       "      <td>اباء</td>\n",
       "    </tr>\n",
       "    <tr>\n",
       "      <th>10</th>\n",
       "      <td>آبائنا</td>\n",
       "      <td>آبائن</td>\n",
       "      <td>ابئ</td>\n",
       "      <td>اباء</td>\n",
       "    </tr>\n",
       "    <tr>\n",
       "      <th>11</th>\n",
       "      <td>آبائهم</td>\n",
       "      <td>آبائهم</td>\n",
       "      <td>ابئ</td>\n",
       "      <td>اباء</td>\n",
       "    </tr>\n",
       "    <tr>\n",
       "      <th>12</th>\n",
       "      <td>آبائهن</td>\n",
       "      <td>آبائهن</td>\n",
       "      <td>ابئ</td>\n",
       "      <td>اباء</td>\n",
       "    </tr>\n",
       "    <tr>\n",
       "      <th>13</th>\n",
       "      <td>آبائي</td>\n",
       "      <td>آبائي</td>\n",
       "      <td>بئي</td>\n",
       "      <td>اباء</td>\n",
       "    </tr>\n",
       "    <tr>\n",
       "      <th>14</th>\n",
       "      <td>آتاك</td>\n",
       "      <td>آت</td>\n",
       "      <td>اتك</td>\n",
       "      <td>اتا</td>\n",
       "    </tr>\n",
       "    <tr>\n",
       "      <th>15</th>\n",
       "      <td>آتاكم</td>\n",
       "      <td>آت</td>\n",
       "      <td>اتا</td>\n",
       "      <td>اتا</td>\n",
       "    </tr>\n",
       "    <tr>\n",
       "      <th>16</th>\n",
       "      <td>آتانا</td>\n",
       "      <td>آت</td>\n",
       "      <td>اتا</td>\n",
       "      <td>اتا</td>\n",
       "    </tr>\n",
       "    <tr>\n",
       "      <th>17</th>\n",
       "      <td>آتاني</td>\n",
       "      <td>آت</td>\n",
       "      <td>اتا</td>\n",
       "      <td>اتا</td>\n",
       "    </tr>\n",
       "    <tr>\n",
       "      <th>18</th>\n",
       "      <td>آتاه</td>\n",
       "      <td>آت</td>\n",
       "      <td>اته</td>\n",
       "      <td>اتا</td>\n",
       "    </tr>\n",
       "    <tr>\n",
       "      <th>19</th>\n",
       "      <td>آتاها</td>\n",
       "      <td>آت</td>\n",
       "      <td>اتا</td>\n",
       "      <td>اتا</td>\n",
       "    </tr>\n",
       "    <tr>\n",
       "      <th>20</th>\n",
       "      <td>آتاهم</td>\n",
       "      <td>آت</td>\n",
       "      <td>اتا</td>\n",
       "      <td>اتا</td>\n",
       "    </tr>\n",
       "    <tr>\n",
       "      <th>21</th>\n",
       "      <td>آتاهما</td>\n",
       "      <td>آت</td>\n",
       "      <td>اته</td>\n",
       "      <td>اتا</td>\n",
       "    </tr>\n",
       "    <tr>\n",
       "      <th>22</th>\n",
       "      <td>آتت</td>\n",
       "      <td>آتت</td>\n",
       "      <td>اتت</td>\n",
       "      <td>اتت</td>\n",
       "    </tr>\n",
       "    <tr>\n",
       "      <th>23</th>\n",
       "      <td>آتنا</td>\n",
       "      <td>آت</td>\n",
       "      <td>اتن</td>\n",
       "      <td>اتنا</td>\n",
       "    </tr>\n",
       "    <tr>\n",
       "      <th>24</th>\n",
       "      <td>آتهم</td>\n",
       "      <td>آت</td>\n",
       "      <td>تهم</td>\n",
       "      <td>اتهم</td>\n",
       "    </tr>\n",
       "    <tr>\n",
       "      <th>25</th>\n",
       "      <td>آتوا</td>\n",
       "      <td>آتو</td>\n",
       "      <td>اتا</td>\n",
       "      <td>اتو</td>\n",
       "    </tr>\n",
       "    <tr>\n",
       "      <th>26</th>\n",
       "      <td>آتوني</td>\n",
       "      <td>آتو</td>\n",
       "      <td>اتو</td>\n",
       "      <td>اتو</td>\n",
       "    </tr>\n",
       "    <tr>\n",
       "      <th>27</th>\n",
       "      <td>آتوه</td>\n",
       "      <td>آتو</td>\n",
       "      <td>اته</td>\n",
       "      <td>اتو</td>\n",
       "    </tr>\n",
       "    <tr>\n",
       "      <th>28</th>\n",
       "      <td>آتي</td>\n",
       "      <td>آت</td>\n",
       "      <td>اتي</td>\n",
       "      <td>ات</td>\n",
       "    </tr>\n",
       "    <tr>\n",
       "      <th>29</th>\n",
       "      <td>آتية</td>\n",
       "      <td>آتي</td>\n",
       "      <td>اتة</td>\n",
       "      <td>ات</td>\n",
       "    </tr>\n",
       "    <tr>\n",
       "      <th>30</th>\n",
       "      <td>آتيت</td>\n",
       "      <td>آتيت</td>\n",
       "      <td>اتت</td>\n",
       "      <td>اتي</td>\n",
       "    </tr>\n",
       "    <tr>\n",
       "      <th>31</th>\n",
       "      <td>آتيتك</td>\n",
       "      <td>آتي</td>\n",
       "      <td>اتت</td>\n",
       "      <td>اتي</td>\n",
       "    </tr>\n",
       "    <tr>\n",
       "      <th>32</th>\n",
       "      <td>آتيتكم</td>\n",
       "      <td>آتي</td>\n",
       "      <td>اتت</td>\n",
       "      <td>اتي</td>\n",
       "    </tr>\n",
       "    <tr>\n",
       "      <th>33</th>\n",
       "      <td>آتيتم</td>\n",
       "      <td>آتيتم</td>\n",
       "      <td>اتي</td>\n",
       "      <td>اتي</td>\n",
       "    </tr>\n",
       "    <tr>\n",
       "      <th>34</th>\n",
       "      <td>آتيتموهن</td>\n",
       "      <td>آتيتمو</td>\n",
       "      <td>يمو</td>\n",
       "      <td>اتي</td>\n",
       "    </tr>\n",
       "    <tr>\n",
       "      <th>35</th>\n",
       "      <td>آتيتنا</td>\n",
       "      <td>آتي</td>\n",
       "      <td>اتت</td>\n",
       "      <td>اتي</td>\n",
       "    </tr>\n",
       "    <tr>\n",
       "      <th>36</th>\n",
       "      <td>آتيتني</td>\n",
       "      <td>آتيت</td>\n",
       "      <td>اتت</td>\n",
       "      <td>اتي</td>\n",
       "    </tr>\n",
       "    <tr>\n",
       "      <th>37</th>\n",
       "      <td>آتيتهن</td>\n",
       "      <td>آتي</td>\n",
       "      <td>اتت</td>\n",
       "      <td>اتي</td>\n",
       "    </tr>\n",
       "    <tr>\n",
       "      <th>38</th>\n",
       "      <td>آتيك</td>\n",
       "      <td>آت</td>\n",
       "      <td>اتك</td>\n",
       "      <td>اتي</td>\n",
       "    </tr>\n",
       "    <tr>\n",
       "      <th>39</th>\n",
       "      <td>آتيكم</td>\n",
       "      <td>آت</td>\n",
       "      <td>اتي</td>\n",
       "      <td>اتي</td>\n",
       "    </tr>\n",
       "    <tr>\n",
       "      <th>40</th>\n",
       "      <td>آتينا</td>\n",
       "      <td>آت</td>\n",
       "      <td>اتي</td>\n",
       "      <td>اتي</td>\n",
       "    </tr>\n",
       "    <tr>\n",
       "      <th>41</th>\n",
       "      <td>آتيناك</td>\n",
       "      <td>آتين</td>\n",
       "      <td>اتن</td>\n",
       "      <td>اتي</td>\n",
       "    </tr>\n",
       "    <tr>\n",
       "      <th>42</th>\n",
       "      <td>آتيناكم</td>\n",
       "      <td>آتين</td>\n",
       "      <td>اتن</td>\n",
       "      <td>اتي</td>\n",
       "    </tr>\n",
       "    <tr>\n",
       "      <th>43</th>\n",
       "      <td>آتيناه</td>\n",
       "      <td>آتين</td>\n",
       "      <td>اتن</td>\n",
       "      <td>اتي</td>\n",
       "    </tr>\n",
       "    <tr>\n",
       "      <th>44</th>\n",
       "      <td>آتيناها</td>\n",
       "      <td>آتين</td>\n",
       "      <td>اتن</td>\n",
       "      <td>اتي</td>\n",
       "    </tr>\n",
       "    <tr>\n",
       "      <th>45</th>\n",
       "      <td>آتيناهم</td>\n",
       "      <td>آتين</td>\n",
       "      <td>اتن</td>\n",
       "      <td>اتي</td>\n",
       "    </tr>\n",
       "    <tr>\n",
       "      <th>46</th>\n",
       "      <td>آتيه</td>\n",
       "      <td>آت</td>\n",
       "      <td>اته</td>\n",
       "      <td>اتي</td>\n",
       "    </tr>\n",
       "    <tr>\n",
       "      <th>47</th>\n",
       "      <td>آتيهم</td>\n",
       "      <td>آت</td>\n",
       "      <td>اتي</td>\n",
       "      <td>اتي</td>\n",
       "    </tr>\n",
       "    <tr>\n",
       "      <th>48</th>\n",
       "      <td>آثار</td>\n",
       "      <td>آثار</td>\n",
       "      <td>اثر</td>\n",
       "      <td>اثار</td>\n",
       "    </tr>\n",
       "    <tr>\n",
       "      <th>49</th>\n",
       "      <td>آثارهم</td>\n",
       "      <td>آثارهم</td>\n",
       "      <td>اثر</td>\n",
       "      <td>اثار</td>\n",
       "    </tr>\n",
       "  </tbody>\n",
       "</table>\n",
       "</div>"
      ],
      "text/plain": [
       "    original    tash nltk_isrst ar_stemmer\n",
       "0                                         \n",
       "1       آباء    آباء        ابء       اباء\n",
       "2     آباءكم  آباءكم        ابء       اباء\n",
       "3     آباءنا   آباءن        ابء       اباء\n",
       "4     آباءهم  آباءهم        ابء       اباء\n",
       "5     آباؤكم  آباؤكم        ابؤ       اباء\n",
       "6     آباؤنا   آباؤن        ابؤ       اباء\n",
       "7     آباؤهم  آباؤهم        ابؤ       اباء\n",
       "8      آبائك   آبائك        بئك       اباء\n",
       "9     آبائكم  آبائكم        ابئ       اباء\n",
       "10    آبائنا   آبائن        ابئ       اباء\n",
       "11    آبائهم  آبائهم        ابئ       اباء\n",
       "12    آبائهن  آبائهن        ابئ       اباء\n",
       "13     آبائي   آبائي        بئي       اباء\n",
       "14      آتاك      آت        اتك        اتا\n",
       "15     آتاكم      آت        اتا        اتا\n",
       "16     آتانا      آت        اتا        اتا\n",
       "17     آتاني      آت        اتا        اتا\n",
       "18      آتاه      آت        اته        اتا\n",
       "19     آتاها      آت        اتا        اتا\n",
       "20     آتاهم      آت        اتا        اتا\n",
       "21    آتاهما      آت        اته        اتا\n",
       "22       آتت     آتت        اتت        اتت\n",
       "23      آتنا      آت        اتن       اتنا\n",
       "24      آتهم      آت        تهم       اتهم\n",
       "25      آتوا     آتو        اتا        اتو\n",
       "26     آتوني     آتو        اتو        اتو\n",
       "27      آتوه     آتو        اته        اتو\n",
       "28       آتي      آت        اتي         ات\n",
       "29      آتية     آتي        اتة         ات\n",
       "30      آتيت    آتيت        اتت        اتي\n",
       "31     آتيتك     آتي        اتت        اتي\n",
       "32    آتيتكم     آتي        اتت        اتي\n",
       "33     آتيتم   آتيتم        اتي        اتي\n",
       "34  آتيتموهن  آتيتمو        يمو        اتي\n",
       "35    آتيتنا     آتي        اتت        اتي\n",
       "36    آتيتني    آتيت        اتت        اتي\n",
       "37    آتيتهن     آتي        اتت        اتي\n",
       "38      آتيك      آت        اتك        اتي\n",
       "39     آتيكم      آت        اتي        اتي\n",
       "40     آتينا      آت        اتي        اتي\n",
       "41    آتيناك    آتين        اتن        اتي\n",
       "42   آتيناكم    آتين        اتن        اتي\n",
       "43    آتيناه    آتين        اتن        اتي\n",
       "44   آتيناها    آتين        اتن        اتي\n",
       "45   آتيناهم    آتين        اتن        اتي\n",
       "46      آتيه      آت        اته        اتي\n",
       "47     آتيهم      آت        اتي        اتي\n",
       "48      آثار    آثار        اثر       اثار\n",
       "49    آثارهم  آثارهم        اثر       اثار"
      ]
     },
     "execution_count": 65,
     "metadata": {},
     "output_type": "execute_result"
    }
   ],
   "source": [
    "stemmed_text.iloc[0:50]"
   ]
  },
  {
   "cell_type": "code",
   "execution_count": 66,
   "id": "276a595f",
   "metadata": {
    "ExecuteTime": {
     "end_time": "2021-03-03T18:55:49.895154Z",
     "start_time": "2021-03-03T18:55:49.878338Z"
    },
    "execution": {
     "iopub.execute_input": "2021-08-31T07:39:18.698994Z",
     "iopub.status.busy": "2021-08-31T07:39:18.698251Z",
     "iopub.status.idle": "2021-08-31T07:39:18.716824Z",
     "shell.execute_reply": "2021-08-31T07:39:18.716158Z",
     "shell.execute_reply.started": "2021-08-31T07:34:36.416227Z"
    },
    "papermill": {
     "duration": 0.106456,
     "end_time": "2021-08-31T07:39:18.716972",
     "exception": false,
     "start_time": "2021-08-31T07:39:18.610516",
     "status": "completed"
    },
    "tags": []
   },
   "outputs": [
    {
     "data": {
      "text/plain": [
       "{'original': 13992, 'tash': 4693, 'nltk_isrst': 4203, 'ar_stemmer': 7045}"
      ]
     },
     "execution_count": 66,
     "metadata": {},
     "output_type": "execute_result"
    }
   ],
   "source": [
    "word_counts_with_stem = {i:len(stemmed_text[i].unique()) for i in stemmed_text.columns}\n",
    "word_counts_with_stem"
   ]
  },
  {
   "cell_type": "code",
   "execution_count": null,
   "id": "f32ef89b",
   "metadata": {
    "papermill": {
     "duration": 0.079433,
     "end_time": "2021-08-31T07:39:18.877994",
     "exception": false,
     "start_time": "2021-08-31T07:39:18.798561",
     "status": "completed"
    },
    "tags": []
   },
   "outputs": [],
   "source": []
  }
 ],
 "metadata": {
  "kernelspec": {
   "display_name": "Python 3",
   "language": "python",
   "name": "python3"
  },
  "language_info": {
   "codemirror_mode": {
    "name": "ipython",
    "version": 3
   },
   "file_extension": ".py",
   "mimetype": "text/x-python",
   "name": "python",
   "nbconvert_exporter": "python",
   "pygments_lexer": "ipython3",
   "version": "3.7.10"
  },
  "papermill": {
   "default_parameters": {},
   "duration": 226.059651,
   "end_time": "2021-08-31T07:39:20.734979",
   "environment_variables": {},
   "exception": null,
   "input_path": "__notebook__.ipynb",
   "output_path": "__notebook__.ipynb",
   "parameters": {},
   "start_time": "2021-08-31T07:35:34.675328",
   "version": "2.3.3"
  }
 },
 "nbformat": 4,
 "nbformat_minor": 5
}
